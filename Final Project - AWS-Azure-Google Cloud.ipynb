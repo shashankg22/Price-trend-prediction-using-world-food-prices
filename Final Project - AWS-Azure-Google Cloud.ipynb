{
 "cells": [
  {
   "cell_type": "code",
   "execution_count": 1,
   "metadata": {
    "application/vnd.databricks.v1+cell": {
     "inputWidgets": {},
     "nuid": "0c0c23f8-b296-45ff-88c8-b35b968eefab",
     "showTitle": false,
     "title": ""
    }
   },
   "outputs": [],
   "source": [
    "# importing spark library to start the session\n",
    "from pyspark.sql import SparkSession\n",
    "import random"
   ]
  },
  {
   "cell_type": "code",
   "execution_count": 2,
   "metadata": {
    "application/vnd.databricks.v1+cell": {
     "inputWidgets": {},
     "nuid": "c6fc615e-f154-43d3-945a-da568f6c5504",
     "showTitle": false,
     "title": ""
    }
   },
   "outputs": [],
   "source": [
    "#Building spark session to start it\n",
    "spark = SparkSession.builder.appName(\"project\").getOrCreate()"
   ]
  },
  {
   "cell_type": "code",
   "execution_count": 3,
   "metadata": {
    "application/vnd.databricks.v1+cell": {
     "inputWidgets": {},
     "nuid": "53b9c15d-40f8-4825-add6-ce5a486f9e61",
     "showTitle": false,
     "title": ""
    }
   },
   "outputs": [
    {
     "name": "stdout",
     "output_type": "stream",
     "text": [
      "+-----------+------+---------+------------------+---------+----+-----+-----------+------------+------+-------------+---------+--------+----------------+\n",
      "|    Country|mkt_id|   Market|    CommodityGroup|Commodity|Year|Month| PriceTrend|        PEWI|  ALPS|UnitOfMeasure|PriceType|Currency|              sn|\n",
      "+-----------+------+---------+------------------+---------+----+-----+-----------+------------+------+-------------+---------+--------+----------------+\n",
      "|Afghanistan|   266| Fayzabad|cereals and tubers|    Wheat|2003|    1|5.686562538|  1.60303044| Alert|           KG|   Retail|     AFN|1_266_84_15_5_87|\n",
      "|Afghanistan|   267|    Mazar|cereals and tubers|    Wheat|2003|    1|5.714583397|  2.71366787|Crisis|           KG|   Retail|     AFN|1_267_84_15_5_87|\n",
      "|Afghanistan|   270|    Hirat|cereals and tubers|    Wheat|2003|    1|5.758124828| 0.357086003|Stress|           KG|   Retail|     AFN|1_270_84_15_5_87|\n",
      "|Afghanistan|   271|    Kabul|cereals and tubers|    Wheat|2003|    1|6.407604218| 0.716033936|Stress|           KG|   Retail|     AFN|1_271_84_15_5_87|\n",
      "|Afghanistan|   272| Kandahar|cereals and tubers|    Wheat|2003|    1|8.323437691|-0.842860222|Normal|           KG|   Retail|     AFN|1_272_84_15_5_87|\n",
      "|Afghanistan|   273|Jalalabad|cereals and tubers|    Wheat|2003|    1|8.126874924|-1.204661369|Normal|           KG|   Retail|     AFN|1_273_84_15_5_87|\n",
      "|Afghanistan|   266| Fayzabad|cereals and tubers|    Wheat|2004|    1|8.149999619|-2.563017845|Normal|           KG|   Retail|     AFN|1_266_84_15_5_87|\n",
      "|Afghanistan|   267|    Mazar|cereals and tubers|    Wheat|2004|    1|7.099999905|-1.688895345|Normal|           KG|   Retail|     AFN|1_267_84_15_5_87|\n",
      "|Afghanistan|   270|    Hirat|cereals and tubers|    Wheat|2004|    1|      8.125|-0.996519148|Normal|           KG|   Retail|     AFN|1_270_84_15_5_87|\n",
      "|Afghanistan|   271|    Kabul|cereals and tubers|    Wheat|2004|    1|9.116666794|-1.289289236|Normal|           KG|   Retail|     AFN|1_271_84_15_5_87|\n",
      "|Afghanistan|   272| Kandahar|cereals and tubers|    Wheat|2004|    1|9.965000153|-0.560278118|Normal|           KG|   Retail|     AFN|1_272_84_15_5_87|\n",
      "|Afghanistan|   273|Jalalabad|cereals and tubers|    Wheat|2004|    1|9.483333588|-1.051211238|Normal|           KG|   Retail|     AFN|1_273_84_15_5_87|\n",
      "|Afghanistan|   266| Fayzabad|cereals and tubers|    Wheat|2005|    1|10.61343765| 0.959987581|Stress|           KG|   Retail|     AFN|1_266_84_15_5_87|\n",
      "|Afghanistan|   267|    Mazar|cereals and tubers|    Wheat|2005|    1|8.485416412|-1.024772406|Normal|           KG|   Retail|     AFN|1_267_84_15_5_87|\n",
      "|Afghanistan|   269|  Maymana|cereals and tubers|    Wheat|2005|    1|10.06033325|-0.015499226|Normal|           KG|   Retail|     AFN|1_269_84_15_5_87|\n",
      "|Afghanistan|   270|    Hirat|cereals and tubers|    Wheat|2005|    1|10.49187469| 0.639433086|Stress|           KG|   Retail|     AFN|1_270_84_15_5_87|\n",
      "|Afghanistan|   271|    Kabul|cereals and tubers|    Wheat|2005|    1|11.82572937| 0.573255241|Stress|           KG|   Retail|     AFN|1_271_84_15_5_87|\n",
      "|Afghanistan|   272| Kandahar|cereals and tubers|    Wheat|2005|    1|11.60656261|  1.40313828| Alert|           KG|   Retail|     AFN|1_272_84_15_5_87|\n",
      "|Afghanistan|   273|Jalalabad|cereals and tubers|    Wheat|2005|    1| 10.8397913| 2.255872488|Crisis|           KG|   Retail|     AFN|1_273_84_15_5_87|\n",
      "|Afghanistan|   266| Fayzabad|cereals and tubers|    Wheat|2006|    1|13.25958347|  0.45039621|Stress|           KG|   Retail|     AFN|1_266_84_15_5_87|\n",
      "+-----------+------+---------+------------------+---------+----+-----+-----------+------------+------+-------------+---------+--------+----------------+\n",
      "only showing top 20 rows\n",
      "\n"
     ]
    }
   ],
   "source": [
    "# Load the data set\n",
    "data = spark.read.csv(\"project.csv\",inferSchema=True,header=True)\n",
    "data.show()"
   ]
  },
  {
   "cell_type": "code",
   "execution_count": 4,
   "metadata": {
    "application/vnd.databricks.v1+cell": {
     "inputWidgets": {},
     "nuid": "11ffd28e-bd06-4d8e-a48d-c6c749584e20",
     "showTitle": false,
     "title": ""
    }
   },
   "outputs": [
    {
     "name": "stdout",
     "output_type": "stream",
     "text": [
      "root\n",
      " |-- Country: string (nullable = true)\n",
      " |-- mkt_id: integer (nullable = true)\n",
      " |-- Market: string (nullable = true)\n",
      " |-- CommodityGroup: string (nullable = true)\n",
      " |-- Commodity: string (nullable = true)\n",
      " |-- Year: integer (nullable = true)\n",
      " |-- Month: integer (nullable = true)\n",
      " |-- PriceTrend: double (nullable = true)\n",
      " |-- PEWI: double (nullable = true)\n",
      " |-- ALPS: string (nullable = true)\n",
      " |-- UnitOfMeasure: string (nullable = true)\n",
      " |-- PriceType: string (nullable = true)\n",
      " |-- Currency: string (nullable = true)\n",
      " |-- sn: string (nullable = true)\n",
      "\n"
     ]
    }
   ],
   "source": [
    "#Schema of attributes\n",
    "data.printSchema()"
   ]
  },
  {
   "cell_type": "code",
   "execution_count": 5,
   "metadata": {
    "application/vnd.databricks.v1+cell": {
     "inputWidgets": {},
     "nuid": "64f50fa4-ac88-432a-aaf5-3276bba22e8a",
     "showTitle": false,
     "title": ""
    }
   },
   "outputs": [
    {
     "data": {
      "text/plain": [
       "['Country',\n",
       " 'mkt_id',\n",
       " 'Market',\n",
       " 'CommodityGroup',\n",
       " 'Commodity',\n",
       " 'Year',\n",
       " 'Month',\n",
       " 'PriceTrend',\n",
       " 'PEWI',\n",
       " 'ALPS',\n",
       " 'UnitOfMeasure',\n",
       " 'PriceType',\n",
       " 'Currency',\n",
       " 'sn']"
      ]
     },
     "execution_count": 5,
     "metadata": {},
     "output_type": "execute_result"
    }
   ],
   "source": [
    "#Schema of attributes\n",
    "data.columns"
   ]
  },
  {
   "cell_type": "code",
   "execution_count": 6,
   "metadata": {
    "application/vnd.databricks.v1+cell": {
     "inputWidgets": {},
     "nuid": "fc3fa59c-f6b7-4af0-8cfb-631f79df2dfa",
     "showTitle": false,
     "title": ""
    }
   },
   "outputs": [
    {
     "name": "stdout",
     "output_type": "stream",
     "text": [
      "+-------+------+------+--------------+---------+----+-----+----------+----+----+-------------+---------+--------+---+\n",
      "|Country|mkt_id|Market|CommodityGroup|Commodity|Year|Month|PriceTrend|PEWI|ALPS|UnitOfMeasure|PriceType|Currency| sn|\n",
      "+-------+------+------+--------------+---------+----+-----+----------+----+----+-------------+---------+--------+---+\n",
      "|      0|     0|     0|             0|        0|   0|    0|         0|   0|   0|            0|        0|       0|  0|\n",
      "+-------+------+------+--------------+---------+----+-----+----------+----+----+-------------+---------+--------+---+\n",
      "\n"
     ]
    }
   ],
   "source": [
    "#Checking the missing values in all the attributes\n",
    "from pyspark.sql.functions import *\n",
    "from pyspark.sql.functions import when, count, col\n",
    "df = data.select(['Country',\n",
    " 'mkt_id',\n",
    " 'Market',\n",
    " 'CommodityGroup',\n",
    " 'Commodity',\n",
    " 'Year',\n",
    " 'Month',\n",
    " 'PriceTrend',\n",
    " 'PEWI',\n",
    " 'ALPS',\n",
    " 'UnitOfMeasure',\n",
    " 'PriceType',\n",
    " 'Currency',\n",
    " 'sn'])\n",
    "df.select([count(when(isnull(c), c)).alias(c) for c in df.columns]).show()"
   ]
  },
  {
   "cell_type": "code",
   "execution_count": 7,
   "metadata": {
    "application/vnd.databricks.v1+cell": {
     "inputWidgets": {},
     "nuid": "eb07af14-d7c5-4382-b8e6-b5f79b909340",
     "showTitle": false,
     "title": ""
    }
   },
   "outputs": [
    {
     "name": "stdout",
     "output_type": "stream",
     "text": [
      "+-----------+------+---------+------------------+---------+----+-----+-----------+------------+------+-------------+---------+--------+----------------+\n",
      "|    Country|mkt_id|   Market|    CommodityGroup|Commodity|Year|Month| PriceTrend|        PEWI|  ALPS|UnitOfMeasure|PriceType|Currency|              sn|\n",
      "+-----------+------+---------+------------------+---------+----+-----+-----------+------------+------+-------------+---------+--------+----------------+\n",
      "|Afghanistan|   266| Fayzabad|cereals and tubers|    Wheat|2003|    1|5.686562538|  1.60303044| Alert|           KG|   Retail|     AFN|1_266_84_15_5_87|\n",
      "|Afghanistan|   267|    Mazar|cereals and tubers|    Wheat|2003|    1|5.714583397|  2.71366787|Crisis|           KG|   Retail|     AFN|1_267_84_15_5_87|\n",
      "|Afghanistan|   270|    Hirat|cereals and tubers|    Wheat|2003|    1|5.758124828| 0.357086003|Stress|           KG|   Retail|     AFN|1_270_84_15_5_87|\n",
      "|Afghanistan|   271|    Kabul|cereals and tubers|    Wheat|2003|    1|6.407604218| 0.716033936|Stress|           KG|   Retail|     AFN|1_271_84_15_5_87|\n",
      "|Afghanistan|   272| Kandahar|cereals and tubers|    Wheat|2003|    1|8.323437691|-0.842860222|Normal|           KG|   Retail|     AFN|1_272_84_15_5_87|\n",
      "|Afghanistan|   273|Jalalabad|cereals and tubers|    Wheat|2003|    1|8.126874924|-1.204661369|Normal|           KG|   Retail|     AFN|1_273_84_15_5_87|\n",
      "|Afghanistan|   266| Fayzabad|cereals and tubers|    Wheat|2004|    1|8.149999619|-2.563017845|Normal|           KG|   Retail|     AFN|1_266_84_15_5_87|\n",
      "|Afghanistan|   267|    Mazar|cereals and tubers|    Wheat|2004|    1|7.099999905|-1.688895345|Normal|           KG|   Retail|     AFN|1_267_84_15_5_87|\n",
      "|Afghanistan|   270|    Hirat|cereals and tubers|    Wheat|2004|    1|      8.125|-0.996519148|Normal|           KG|   Retail|     AFN|1_270_84_15_5_87|\n",
      "|Afghanistan|   271|    Kabul|cereals and tubers|    Wheat|2004|    1|9.116666794|-1.289289236|Normal|           KG|   Retail|     AFN|1_271_84_15_5_87|\n",
      "|Afghanistan|   272| Kandahar|cereals and tubers|    Wheat|2004|    1|9.965000153|-0.560278118|Normal|           KG|   Retail|     AFN|1_272_84_15_5_87|\n",
      "|Afghanistan|   273|Jalalabad|cereals and tubers|    Wheat|2004|    1|9.483333588|-1.051211238|Normal|           KG|   Retail|     AFN|1_273_84_15_5_87|\n",
      "|Afghanistan|   266| Fayzabad|cereals and tubers|    Wheat|2005|    1|10.61343765| 0.959987581|Stress|           KG|   Retail|     AFN|1_266_84_15_5_87|\n",
      "|Afghanistan|   267|    Mazar|cereals and tubers|    Wheat|2005|    1|8.485416412|-1.024772406|Normal|           KG|   Retail|     AFN|1_267_84_15_5_87|\n",
      "|Afghanistan|   269|  Maymana|cereals and tubers|    Wheat|2005|    1|10.06033325|-0.015499226|Normal|           KG|   Retail|     AFN|1_269_84_15_5_87|\n",
      "|Afghanistan|   270|    Hirat|cereals and tubers|    Wheat|2005|    1|10.49187469| 0.639433086|Stress|           KG|   Retail|     AFN|1_270_84_15_5_87|\n",
      "|Afghanistan|   271|    Kabul|cereals and tubers|    Wheat|2005|    1|11.82572937| 0.573255241|Stress|           KG|   Retail|     AFN|1_271_84_15_5_87|\n",
      "|Afghanistan|   272| Kandahar|cereals and tubers|    Wheat|2005|    1|11.60656261|  1.40313828| Alert|           KG|   Retail|     AFN|1_272_84_15_5_87|\n",
      "|Afghanistan|   273|Jalalabad|cereals and tubers|    Wheat|2005|    1| 10.8397913| 2.255872488|Crisis|           KG|   Retail|     AFN|1_273_84_15_5_87|\n",
      "|Afghanistan|   266| Fayzabad|cereals and tubers|    Wheat|2006|    1|13.25958347|  0.45039621|Stress|           KG|   Retail|     AFN|1_266_84_15_5_87|\n",
      "+-----------+------+---------+------------------+---------+----+-----+-----------+------------+------+-------------+---------+--------+----------------+\n",
      "only showing top 20 rows\n",
      "\n"
     ]
    }
   ],
   "source": [
    "#Dropping of Somalia country as it has a very volatile currency and it's affecting the entire prediction. \n",
    "data=data.where(data.Country!=\"Somalia\")\n",
    "data=data.where(data.Year!=\"1990\")\n",
    "data=data.where(data.Year!=\"1991\")\n",
    "data=data.where(data.Year!=\"1992\")\n",
    "data=data.where(data.Year!=\"1993\")\n",
    "data=data.where(data.Year!=\"1994\")\n",
    "data=data.where(data.Year!=\"1995\")\n",
    "data=data.where(data.Year!=\"1996\")\n",
    "data=data.where(data.Year!=\"1997\")\n",
    "data=data.where(data.Year!=\"1998\")\n",
    "data=data.where(data.Year!=\"1999\")\n",
    "data=data.where(data.Year!=\"2000\")\n",
    "data=data.where(data.Year!=\"2001\")\n",
    "data=data.where(data.Year!=\"2002\")\n",
    "data.show()"
   ]
  },
  {
   "cell_type": "code",
   "execution_count": 8,
   "metadata": {
    "application/vnd.databricks.v1+cell": {
     "inputWidgets": {},
     "nuid": "05236942-6eb7-4a98-a7c6-db1d5633eb7d",
     "showTitle": false,
     "title": ""
    }
   },
   "outputs": [],
   "source": [
    "#Removing negative value in our dependent variable PriceTrend\n",
    "import pyspark.sql.functions as F\n",
    "\n",
    "data = data.withColumn(\"only_positive_price_trend\", F.when(F.col(\"PriceTrend\") > 0, F.col(\"PriceTrend\")).otherwise(0))"
   ]
  },
  {
   "cell_type": "code",
   "execution_count": 9,
   "metadata": {
    "application/vnd.databricks.v1+cell": {
     "inputWidgets": {},
     "nuid": "8a6b6b89-96e3-4252-925f-601e5aeee749",
     "showTitle": false,
     "title": ""
    }
   },
   "outputs": [
    {
     "name": "stdout",
     "output_type": "stream",
     "text": [
      "+-----------+------+---------+------------------+---------+----+-----+-----------+------------+------+-------------+---------+--------+----------------+-------------------------+\n",
      "|    Country|mkt_id|   Market|    CommodityGroup|Commodity|Year|Month| PriceTrend|        PEWI|  ALPS|UnitOfMeasure|PriceType|Currency|              sn|only_positive_price_trend|\n",
      "+-----------+------+---------+------------------+---------+----+-----+-----------+------------+------+-------------+---------+--------+----------------+-------------------------+\n",
      "|Afghanistan|   266| Fayzabad|cereals and tubers|    Wheat|2003|    1|5.686562538|  1.60303044| Alert|           KG|   Retail|     AFN|1_266_84_15_5_87|              5.686562538|\n",
      "|Afghanistan|   267|    Mazar|cereals and tubers|    Wheat|2003|    1|5.714583397|  2.71366787|Crisis|           KG|   Retail|     AFN|1_267_84_15_5_87|              5.714583397|\n",
      "|Afghanistan|   270|    Hirat|cereals and tubers|    Wheat|2003|    1|5.758124828| 0.357086003|Stress|           KG|   Retail|     AFN|1_270_84_15_5_87|              5.758124828|\n",
      "|Afghanistan|   271|    Kabul|cereals and tubers|    Wheat|2003|    1|6.407604218| 0.716033936|Stress|           KG|   Retail|     AFN|1_271_84_15_5_87|              6.407604218|\n",
      "|Afghanistan|   272| Kandahar|cereals and tubers|    Wheat|2003|    1|8.323437691|-0.842860222|Normal|           KG|   Retail|     AFN|1_272_84_15_5_87|              8.323437691|\n",
      "|Afghanistan|   273|Jalalabad|cereals and tubers|    Wheat|2003|    1|8.126874924|-1.204661369|Normal|           KG|   Retail|     AFN|1_273_84_15_5_87|              8.126874924|\n",
      "|Afghanistan|   266| Fayzabad|cereals and tubers|    Wheat|2004|    1|8.149999619|-2.563017845|Normal|           KG|   Retail|     AFN|1_266_84_15_5_87|              8.149999619|\n",
      "|Afghanistan|   267|    Mazar|cereals and tubers|    Wheat|2004|    1|7.099999905|-1.688895345|Normal|           KG|   Retail|     AFN|1_267_84_15_5_87|              7.099999905|\n",
      "|Afghanistan|   270|    Hirat|cereals and tubers|    Wheat|2004|    1|      8.125|-0.996519148|Normal|           KG|   Retail|     AFN|1_270_84_15_5_87|                    8.125|\n",
      "|Afghanistan|   271|    Kabul|cereals and tubers|    Wheat|2004|    1|9.116666794|-1.289289236|Normal|           KG|   Retail|     AFN|1_271_84_15_5_87|              9.116666794|\n",
      "|Afghanistan|   272| Kandahar|cereals and tubers|    Wheat|2004|    1|9.965000153|-0.560278118|Normal|           KG|   Retail|     AFN|1_272_84_15_5_87|              9.965000153|\n",
      "|Afghanistan|   273|Jalalabad|cereals and tubers|    Wheat|2004|    1|9.483333588|-1.051211238|Normal|           KG|   Retail|     AFN|1_273_84_15_5_87|              9.483333588|\n",
      "|Afghanistan|   266| Fayzabad|cereals and tubers|    Wheat|2005|    1|10.61343765| 0.959987581|Stress|           KG|   Retail|     AFN|1_266_84_15_5_87|              10.61343765|\n",
      "|Afghanistan|   267|    Mazar|cereals and tubers|    Wheat|2005|    1|8.485416412|-1.024772406|Normal|           KG|   Retail|     AFN|1_267_84_15_5_87|              8.485416412|\n",
      "|Afghanistan|   269|  Maymana|cereals and tubers|    Wheat|2005|    1|10.06033325|-0.015499226|Normal|           KG|   Retail|     AFN|1_269_84_15_5_87|              10.06033325|\n",
      "|Afghanistan|   270|    Hirat|cereals and tubers|    Wheat|2005|    1|10.49187469| 0.639433086|Stress|           KG|   Retail|     AFN|1_270_84_15_5_87|              10.49187469|\n",
      "|Afghanistan|   271|    Kabul|cereals and tubers|    Wheat|2005|    1|11.82572937| 0.573255241|Stress|           KG|   Retail|     AFN|1_271_84_15_5_87|              11.82572937|\n",
      "|Afghanistan|   272| Kandahar|cereals and tubers|    Wheat|2005|    1|11.60656261|  1.40313828| Alert|           KG|   Retail|     AFN|1_272_84_15_5_87|              11.60656261|\n",
      "|Afghanistan|   273|Jalalabad|cereals and tubers|    Wheat|2005|    1| 10.8397913| 2.255872488|Crisis|           KG|   Retail|     AFN|1_273_84_15_5_87|               10.8397913|\n",
      "|Afghanistan|   266| Fayzabad|cereals and tubers|    Wheat|2006|    1|13.25958347|  0.45039621|Stress|           KG|   Retail|     AFN|1_266_84_15_5_87|              13.25958347|\n",
      "+-----------+------+---------+------------------+---------+----+-----+-----------+------------+------+-------------+---------+--------+----------------+-------------------------+\n",
      "only showing top 20 rows\n",
      "\n"
     ]
    }
   ],
   "source": [
    "data.show()"
   ]
  },
  {
   "cell_type": "code",
   "execution_count": 10,
   "metadata": {
    "application/vnd.databricks.v1+cell": {
     "inputWidgets": {},
     "nuid": "e00eafd5-0b73-4c6f-b52b-a6a507ce188a",
     "showTitle": false,
     "title": ""
    }
   },
   "outputs": [
    {
     "name": "stdout",
     "output_type": "stream",
     "text": [
      "Number of Rows:  461752    Number of Columns:  15\n"
     ]
    }
   ],
   "source": [
    "# dimensions of the dataframe\n",
    "print(\"Number of Rows: \",data.count() ,\"   Number of Columns: \", len(data.columns))"
   ]
  },
  {
   "cell_type": "code",
   "execution_count": 11,
   "metadata": {
    "application/vnd.databricks.v1+cell": {
     "inputWidgets": {},
     "nuid": "98011ae4-3d05-4b4c-9cba-4213f5bebbb6",
     "showTitle": false,
     "title": ""
    }
   },
   "outputs": [
    {
     "name": "stdout",
     "output_type": "stream",
     "text": [
      "{'success': True, 'timestamp': 1606956245, 'base': 'USD', 'date': '2020-12-03', 'rates': {'AED': 3.6732, 'AFN': 76.950092, 'ALL': 102.28207, 'AMD': 509.140333, 'ANG': 1.795836, 'AOA': 654.816971, 'ARS': 81.498497, 'AUD': 1.350755, 'AWG': 1.8, 'AZN': 1.698212, 'BAM': 1.623486, 'BBD': 2.020106, 'BDT': 84.83476, 'BGN': 1.614595, 'BHD': 0.377059, 'BIF': 1945, 'BMD': 1, 'BND': 1.340766, 'BOB': 6.898192, 'BRL': 5.217601, 'BSD': 0.999959, 'BTC': 5.2093968e-05, 'BTN': 73.817916, 'BWP': 11.085856, 'BYN': 2.593573, 'BYR': 19600, 'BZD': 2.016669, 'CAD': 1.29235, 'CDF': 1969.999538, 'CHF': 0.895195, 'CLF': 0.027398, 'CLP': 756.000255, 'CNY': 6.5634, 'COP': 3522.02, 'CRC': 604.120836, 'CUC': 1, 'CUP': 26.5, 'CVE': 91.374968, 'CZK': 21.797203, 'DJF': 177.720042, 'DKK': 6.14825, 'DOP': 58.30433, 'DZD': 129.164977, 'EGP': 15.661296, 'ERN': 15.000224, 'ETB': 38.250119, 'EUR': 0.825955, 'FJD': 2.069199, 'FKP': 0.748609, 'GBP': 0.748615, 'GEL': 3.325, 'GGP': 0.748609, 'GHS': 5.844959, 'GIP': 0.748609, 'GMD': 51.77974, 'GNF': 9820.000204, 'GTQ': 7.818565, 'GYD': 209.709286, 'HKD': 7.75215, 'HNL': 24.313532, 'HRK': 6.237601, 'HTG': 67.463598, 'HUF': 296.940406, 'IDR': 14169.55, 'ILS': 3.28945, 'IMP': 0.748609, 'INR': 73.66425, 'IQD': 1190.5, 'IRR': 42104.999759, 'ISK': 128.340288, 'JEP': 0.748609, 'JMD': 146.050523, 'JOD': 0.709052, 'JPY': 104.479812, 'KES': 110.589804, 'KGS': 84.799202, 'KHR': 4049.999983, 'KMF': 406.402513, 'KPW': 900.054335, 'KRW': 1100.403093, 'KWD': 0.305403, 'KYD': 0.833728, 'KZT': 425.106457, 'LAK': 9275.000051, 'LBP': 1518.999447, 'LKR': 185.837159, 'LRD': 157.749983, 'LSL': 15.279688, 'LTL': 2.95274, 'LVL': 0.60489, 'LYD': 1.354972, 'MAD': 9.017501, 'MDL': 17.257257, 'MGA': 3719.999972, 'MKD': 50.866417, 'MMK': 1323.620591, 'MNT': 2840.310922, 'MOP': 7.987896, 'MRO': 357.000515, 'MUR': 39.801543, 'MVR': 15.429928, 'MWK': 772.497903, 'MXN': 20.018504, 'MYR': 4.0735, 'MZN': 74.259499, 'NAD': 15.280415, 'NGN': 381.198486, 'NIO': 34.840019, 'NOK': 8.80342, 'NPR': 118.108765, 'NZD': 1.41641, 'OMR': 0.384979, 'PAB': 1.00049, 'PEN': 3.606997, 'PGK': 3.527501, 'PHP': 48.035501, 'PKR': 160.400369, 'PLN': 3.69612, 'PYG': 7042.884893, 'QAR': 3.640983, 'RON': 4.023399, 'RSD': 97.114967, 'RUB': 75.144602, 'RWF': 985, 'SAR': 3.750746, 'SBD': 8.098361, 'SCR': 21.205026, 'SDG': 55.32499, 'SEK': 8.468798, 'SGD': 1.338615, 'SHP': 0.748609, 'SLL': 10019.999902, 'SOS': 582.999753, 'SRD': 14.153994, 'STD': 21031.906016, 'SVC': 8.754701, 'SYP': 512.955021, 'SZL': 15.279892, 'THB': 30.219679, 'TJS': 11.332797, 'TMT': 3.51, 'TND': 2.704499, 'TOP': 2.286301, 'TRY': 7.847497, 'TTD': 6.798413, 'TWD': 28.409698, 'TZS': 2319.000249, 'UAH': 28.436916, 'UGX': 3697.557817, 'USD': 1, 'UYU': 42.554499, 'UZS': 10424.999526, 'VEF': 9.987497, 'VND': 23130, 'VUV': 110.747063, 'WST': 2.549081, 'XAF': 544.538896, 'XAG': 0.041641, 'XAU': 0.000546, 'XCD': 2.70255, 'XDR': 0.700144, 'XOF': 542.502664, 'XPF': 98.875016, 'YER': 250.349588, 'ZAR': 15.30762, 'ZMK': 9001.199235, 'ZMW': 21.035207, 'ZWL': 321.999941}}\n"
     ]
    }
   ],
   "source": [
    "#All the PriceTrend are in the local currencies. Therefore we need to convert them into a single currency i.e. USD. Using the fixer.io API to scrape the latest rates of different currencies\n",
    "import requests\n",
    "\n",
    "url = 'http://data.fixer.io/api/latest?access_key=f874f54530d940862712d9c04ba6be4f&base=USD'\n",
    "response = requests.get(url)\n",
    "response=response.json()\n",
    "print(response)"
   ]
  },
  {
   "cell_type": "code",
   "execution_count": 12,
   "metadata": {
    "application/vnd.databricks.v1+cell": {
     "inputWidgets": {},
     "nuid": "1f46886f-3e22-439f-ac11-cc9155351656",
     "showTitle": false,
     "title": ""
    }
   },
   "outputs": [
    {
     "name": "stdout",
     "output_type": "stream",
     "text": [
      "+--------+----------------------------+\n",
      "|Currency|Rate ( 1USD = Currency Rate)|\n",
      "+--------+----------------------------+\n",
      "|     AED|                    3.673042|\n",
      "|     AFN|                   77.000368|\n",
      "|     ALL|                  103.650403|\n",
      "|     AMD|                  508.210403|\n",
      "|     ANG|                    1.794919|\n",
      "|     AOA|                  652.645041|\n",
      "|     ARS|                    80.99534|\n",
      "|     AUD|                     1.35373|\n",
      "|     AWG|                         1.8|\n",
      "|     AZN|                     1.70397|\n",
      "|     BAM|                     1.64037|\n",
      "|     BBD|                    2.019022|\n",
      "|     BDT|                   84.792881|\n",
      "|     BGN|                    1.635255|\n",
      "|     BHD|                    0.377056|\n",
      "|     BIF|                      1942.0|\n",
      "|     BMD|                         1.0|\n",
      "|     BND|                     1.33841|\n",
      "|     BOB|                    6.904832|\n",
      "|     BRL|                    5.344104|\n",
      "+--------+----------------------------+\n",
      "only showing top 20 rows\n",
      "\n"
     ]
    }
   ],
   "source": [
    "# importing the currency value of each currency in United States Dollar (USD)\n",
    "rate = spark.read.csv(\"currency_rate_USD.csv\",inferSchema=True,header=True)\n",
    "rate.show()"
   ]
  },
  {
   "cell_type": "code",
   "execution_count": 13,
   "metadata": {
    "application/vnd.databricks.v1+cell": {
     "inputWidgets": {},
     "nuid": "21b23392-85c4-45a6-9ac8-6cb03575527d",
     "showTitle": false,
     "title": ""
    }
   },
   "outputs": [
    {
     "name": "stdout",
     "output_type": "stream",
     "text": [
      "+--------+----------------------------+--------------------------+\n",
      "|Currency|Rate ( 1USD = Currency Rate)|rate_USD_in_local_currency|\n",
      "+--------+----------------------------+--------------------------+\n",
      "|     AED|                    3.673042|       0.27225389745066897|\n",
      "|     AFN|                   77.000368|      0.012986950919507296|\n",
      "|     ALL|                  103.650403|       0.00964781584110194|\n",
      "|     AMD|                  508.210403|      0.001967688961298...|\n",
      "|     ANG|                    1.794919|        0.5571282046710743|\n",
      "|     AOA|                  652.645041|      0.001532226458761...|\n",
      "|     ARS|                    80.99534|      0.012346389310792448|\n",
      "|     AUD|                     1.35373|         0.738699740716391|\n",
      "|     AWG|                         1.8|        0.5555555555555556|\n",
      "|     AZN|                     1.70397|        0.5868647922205203|\n",
      "|     BAM|                     1.64037|        0.6096185616659656|\n",
      "|     BBD|                    2.019022|        0.4952893034350294|\n",
      "|     BDT|                   84.792881|      0.011793442895282684|\n",
      "|     BGN|                    1.635255|        0.6115254195828785|\n",
      "|     BHD|                    0.377056|         2.652125944156836|\n",
      "|     BIF|                      1942.0|      5.149330587023687E-4|\n",
      "|     BMD|                         1.0|                       1.0|\n",
      "|     BND|                     1.33841|        0.7471552065510568|\n",
      "|     BOB|                    6.904832|       0.14482611597211925|\n",
      "|     BRL|                    5.344104|       0.18712210690510514|\n",
      "+--------+----------------------------+--------------------------+\n",
      "only showing top 20 rows\n",
      "\n"
     ]
    }
   ],
   "source": [
    "#Converting United States Dollar (USD) in Local Currency i.e. 1 Currency Rate = (1/Currency Rate)USD\n",
    "import pyspark.sql.functions as F\n",
    "\n",
    "rate = rate.withColumn(\"rate_USD_in_local_currency\", 1/F.col(\"Rate ( 1USD = Currency Rate)\"))\n",
    "rate.show()"
   ]
  },
  {
   "cell_type": "code",
   "execution_count": 14,
   "metadata": {
    "application/vnd.databricks.v1+cell": {
     "inputWidgets": {},
     "nuid": "b6476a78-b656-4cc5-b6a2-f13aa996fdec",
     "showTitle": false,
     "title": ""
    }
   },
   "outputs": [],
   "source": [
    "#Joining the data table and the rate conversion table by defining respective variable\n",
    "ta = data.alias('ta')\n",
    "tb = rate.alias('tb')"
   ]
  },
  {
   "cell_type": "code",
   "execution_count": 15,
   "metadata": {
    "application/vnd.databricks.v1+cell": {
     "inputWidgets": {},
     "nuid": "405a36ab-5caf-4635-b86e-c8a2e051e9b9",
     "showTitle": false,
     "title": ""
    }
   },
   "outputs": [
    {
     "name": "stdout",
     "output_type": "stream",
     "text": [
      "+-----------+------+---------+------------------+---------+----+-----+-----------+------------+------+-------------+---------+--------+----------------+-------------------------+--------+----------------------------+--------------------------+\n",
      "|    Country|mkt_id|   Market|    CommodityGroup|Commodity|Year|Month| PriceTrend|        PEWI|  ALPS|UnitOfMeasure|PriceType|Currency|              sn|only_positive_price_trend|Currency|Rate ( 1USD = Currency Rate)|rate_USD_in_local_currency|\n",
      "+-----------+------+---------+------------------+---------+----+-----+-----------+------------+------+-------------+---------+--------+----------------+-------------------------+--------+----------------------------+--------------------------+\n",
      "|Afghanistan|   266| Fayzabad|cereals and tubers|    Wheat|2003|    1|5.686562538|  1.60303044| Alert|           KG|   Retail|     AFN|1_266_84_15_5_87|              5.686562538|     AFN|                   77.000368|      0.012986950919507296|\n",
      "|Afghanistan|   267|    Mazar|cereals and tubers|    Wheat|2003|    1|5.714583397|  2.71366787|Crisis|           KG|   Retail|     AFN|1_267_84_15_5_87|              5.714583397|     AFN|                   77.000368|      0.012986950919507296|\n",
      "|Afghanistan|   270|    Hirat|cereals and tubers|    Wheat|2003|    1|5.758124828| 0.357086003|Stress|           KG|   Retail|     AFN|1_270_84_15_5_87|              5.758124828|     AFN|                   77.000368|      0.012986950919507296|\n",
      "|Afghanistan|   271|    Kabul|cereals and tubers|    Wheat|2003|    1|6.407604218| 0.716033936|Stress|           KG|   Retail|     AFN|1_271_84_15_5_87|              6.407604218|     AFN|                   77.000368|      0.012986950919507296|\n",
      "|Afghanistan|   272| Kandahar|cereals and tubers|    Wheat|2003|    1|8.323437691|-0.842860222|Normal|           KG|   Retail|     AFN|1_272_84_15_5_87|              8.323437691|     AFN|                   77.000368|      0.012986950919507296|\n",
      "|Afghanistan|   273|Jalalabad|cereals and tubers|    Wheat|2003|    1|8.126874924|-1.204661369|Normal|           KG|   Retail|     AFN|1_273_84_15_5_87|              8.126874924|     AFN|                   77.000368|      0.012986950919507296|\n",
      "|Afghanistan|   266| Fayzabad|cereals and tubers|    Wheat|2004|    1|8.149999619|-2.563017845|Normal|           KG|   Retail|     AFN|1_266_84_15_5_87|              8.149999619|     AFN|                   77.000368|      0.012986950919507296|\n",
      "|Afghanistan|   267|    Mazar|cereals and tubers|    Wheat|2004|    1|7.099999905|-1.688895345|Normal|           KG|   Retail|     AFN|1_267_84_15_5_87|              7.099999905|     AFN|                   77.000368|      0.012986950919507296|\n",
      "|Afghanistan|   270|    Hirat|cereals and tubers|    Wheat|2004|    1|      8.125|-0.996519148|Normal|           KG|   Retail|     AFN|1_270_84_15_5_87|                    8.125|     AFN|                   77.000368|      0.012986950919507296|\n",
      "|Afghanistan|   271|    Kabul|cereals and tubers|    Wheat|2004|    1|9.116666794|-1.289289236|Normal|           KG|   Retail|     AFN|1_271_84_15_5_87|              9.116666794|     AFN|                   77.000368|      0.012986950919507296|\n",
      "|Afghanistan|   272| Kandahar|cereals and tubers|    Wheat|2004|    1|9.965000153|-0.560278118|Normal|           KG|   Retail|     AFN|1_272_84_15_5_87|              9.965000153|     AFN|                   77.000368|      0.012986950919507296|\n",
      "|Afghanistan|   273|Jalalabad|cereals and tubers|    Wheat|2004|    1|9.483333588|-1.051211238|Normal|           KG|   Retail|     AFN|1_273_84_15_5_87|              9.483333588|     AFN|                   77.000368|      0.012986950919507296|\n",
      "|Afghanistan|   266| Fayzabad|cereals and tubers|    Wheat|2005|    1|10.61343765| 0.959987581|Stress|           KG|   Retail|     AFN|1_266_84_15_5_87|              10.61343765|     AFN|                   77.000368|      0.012986950919507296|\n",
      "|Afghanistan|   267|    Mazar|cereals and tubers|    Wheat|2005|    1|8.485416412|-1.024772406|Normal|           KG|   Retail|     AFN|1_267_84_15_5_87|              8.485416412|     AFN|                   77.000368|      0.012986950919507296|\n",
      "|Afghanistan|   269|  Maymana|cereals and tubers|    Wheat|2005|    1|10.06033325|-0.015499226|Normal|           KG|   Retail|     AFN|1_269_84_15_5_87|              10.06033325|     AFN|                   77.000368|      0.012986950919507296|\n",
      "|Afghanistan|   270|    Hirat|cereals and tubers|    Wheat|2005|    1|10.49187469| 0.639433086|Stress|           KG|   Retail|     AFN|1_270_84_15_5_87|              10.49187469|     AFN|                   77.000368|      0.012986950919507296|\n",
      "|Afghanistan|   271|    Kabul|cereals and tubers|    Wheat|2005|    1|11.82572937| 0.573255241|Stress|           KG|   Retail|     AFN|1_271_84_15_5_87|              11.82572937|     AFN|                   77.000368|      0.012986950919507296|\n",
      "|Afghanistan|   272| Kandahar|cereals and tubers|    Wheat|2005|    1|11.60656261|  1.40313828| Alert|           KG|   Retail|     AFN|1_272_84_15_5_87|              11.60656261|     AFN|                   77.000368|      0.012986950919507296|\n",
      "|Afghanistan|   273|Jalalabad|cereals and tubers|    Wheat|2005|    1| 10.8397913| 2.255872488|Crisis|           KG|   Retail|     AFN|1_273_84_15_5_87|               10.8397913|     AFN|                   77.000368|      0.012986950919507296|\n",
      "|Afghanistan|   266| Fayzabad|cereals and tubers|    Wheat|2006|    1|13.25958347|  0.45039621|Stress|           KG|   Retail|     AFN|1_266_84_15_5_87|              13.25958347|     AFN|                   77.000368|      0.012986950919507296|\n",
      "+-----------+------+---------+------------------+---------+----+-----+-----------+------------+------+-------------+---------+--------+----------------+-------------------------+--------+----------------------------+--------------------------+\n",
      "only showing top 20 rows\n",
      "\n"
     ]
    }
   ],
   "source": [
    "#using join to join the two tables\n",
    "data = ta.join(tb, ta.Currency == tb.Currency)\n",
    "data.show()"
   ]
  },
  {
   "cell_type": "code",
   "execution_count": 16,
   "metadata": {
    "application/vnd.databricks.v1+cell": {
     "inputWidgets": {},
     "nuid": "40a9e776-b539-4f8b-bc49-4c3340c18a4e",
     "showTitle": false,
     "title": ""
    }
   },
   "outputs": [
    {
     "name": "stdout",
     "output_type": "stream",
     "text": [
      "root\n",
      " |-- Country: string (nullable = true)\n",
      " |-- mkt_id: integer (nullable = true)\n",
      " |-- Market: string (nullable = true)\n",
      " |-- CommodityGroup: string (nullable = true)\n",
      " |-- Commodity: string (nullable = true)\n",
      " |-- Year: integer (nullable = true)\n",
      " |-- Month: integer (nullable = true)\n",
      " |-- PriceTrend: double (nullable = true)\n",
      " |-- PEWI: double (nullable = true)\n",
      " |-- ALPS: string (nullable = true)\n",
      " |-- UnitOfMeasure: string (nullable = true)\n",
      " |-- PriceType: string (nullable = true)\n",
      " |-- Currency: string (nullable = true)\n",
      " |-- sn: string (nullable = true)\n",
      " |-- only_positive_price_trend: double (nullable = true)\n",
      " |-- Currency: string (nullable = true)\n",
      " |-- Rate ( 1USD = Currency Rate): double (nullable = true)\n",
      " |-- rate_USD_in_local_currency: double (nullable = true)\n",
      "\n"
     ]
    }
   ],
   "source": [
    "data.printSchema()"
   ]
  },
  {
   "cell_type": "code",
   "execution_count": 17,
   "metadata": {
    "application/vnd.databricks.v1+cell": {
     "inputWidgets": {},
     "nuid": "f61bad20-cfc3-4b13-82eb-b9ae373024ba",
     "showTitle": false,
     "title": ""
    }
   },
   "outputs": [
    {
     "name": "stdout",
     "output_type": "stream",
     "text": [
      "+-----------+------+---------+------------------+---------+----+-----+-----------+------------+------+-------------+---------+--------+----------------+-------------------------+--------+----------------------------+--------------------------+-------------------+\n",
      "|    Country|mkt_id|   Market|    CommodityGroup|Commodity|Year|Month| PriceTrend|        PEWI|  ALPS|UnitOfMeasure|PriceType|Currency|              sn|only_positive_price_trend|Currency|Rate ( 1USD = Currency Rate)|rate_USD_in_local_currency|    price_trend_USD|\n",
      "+-----------+------+---------+------------------+---------+----+-----+-----------+------------+------+-------------+---------+--------+----------------+-------------------------+--------+----------------------------+--------------------------+-------------------+\n",
      "|Afghanistan|   266| Fayzabad|cereals and tubers|    Wheat|2003|    1|5.686562538|  1.60303044| Alert|           KG|   Retail|     AFN|1_266_84_15_5_87|              5.686562538|     AFN|                   77.000368|      0.012986950919507296|0.07385110858171484|\n",
      "|Afghanistan|   267|    Mazar|cereals and tubers|    Wheat|2003|    1|5.714583397|  2.71366787|Crisis|           KG|   Retail|     AFN|1_267_84_15_5_87|              5.714583397|     AFN|                   77.000368|      0.012986950919507296|0.07421501410227027|\n",
      "|Afghanistan|   270|    Hirat|cereals and tubers|    Wheat|2003|    1|5.758124828| 0.357086003|Stress|           KG|   Retail|     AFN|1_270_84_15_5_87|              5.758124828|     AFN|                   77.000368|      0.012986950919507296|0.07478048452963239|\n",
      "|Afghanistan|   271|    Kabul|cereals and tubers|    Wheat|2003|    1|6.407604218| 0.716033936|Stress|           KG|   Retail|     AFN|1_271_84_15_5_87|              6.407604218|     AFN|                   77.000368|      0.012986950919507296|0.08321524149079393|\n",
      "|Afghanistan|   272| Kandahar|cereals and tubers|    Wheat|2003|    1|8.323437691|-0.842860222|Normal|           KG|   Retail|     AFN|1_272_84_15_5_87|              8.323437691|     AFN|                   77.000368|      0.012986950919507296|0.10809607677459414|\n",
      "|Afghanistan|   273|Jalalabad|cereals and tubers|    Wheat|2003|    1|8.126874924|-1.204661369|Normal|           KG|   Retail|     AFN|1_273_84_15_5_87|              8.126874924|     AFN|                   77.000368|      0.012986950919507296|0.10554332576696257|\n",
      "|Afghanistan|   266| Fayzabad|cereals and tubers|    Wheat|2004|    1|8.149999619|-2.563017845|Normal|           KG|   Retail|     AFN|1_266_84_15_5_87|              8.149999619|     AFN|                   77.000368|      0.012986950919507296|0.10584364504595617|\n",
      "|Afghanistan|   267|    Mazar|cereals and tubers|    Wheat|2004|    1|7.099999905|-1.688895345|Normal|           KG|   Retail|     AFN|1_267_84_15_5_87|              7.099999905|     AFN|                   77.000368|      0.012986950919507296|0.09220735029474146|\n",
      "|Afghanistan|   270|    Hirat|cereals and tubers|    Wheat|2004|    1|      8.125|-0.996519148|Normal|           KG|   Retail|     AFN|1_270_84_15_5_87|                    8.125|     AFN|                   77.000368|      0.012986950919507296|0.10551897622099678|\n",
      "|Afghanistan|   271|    Kabul|cereals and tubers|    Wheat|2004|    1|9.116666794|-1.289289236|Normal|           KG|   Retail|     AFN|1_271_84_15_5_87|              9.116666794|     AFN|                   77.000368|      0.012986950919507296|0.11839770420317994|\n",
      "|Afghanistan|   272| Kandahar|cereals and tubers|    Wheat|2004|    1|9.965000153|-0.560278118|Normal|           KG|   Retail|     AFN|1_272_84_15_5_87|              9.965000153|     AFN|                   77.000368|      0.012986950919507296|0.12941496789989368|\n",
      "|Afghanistan|   273|Jalalabad|cereals and tubers|    Wheat|2004|    1|9.483333588|-1.051211238|Normal|           KG|   Retail|     AFN|1_273_84_15_5_87|              9.483333588|     AFN|                   77.000368|      0.012986950919507296|0.12315958786067104|\n",
      "|Afghanistan|   266| Fayzabad|cereals and tubers|    Wheat|2005|    1|10.61343765| 0.959987581|Stress|           KG|   Retail|     AFN|1_266_84_15_5_87|              10.61343765|     AFN|                   77.000368|      0.012986950919507296|0.13783619384780085|\n",
      "|Afghanistan|   267|    Mazar|cereals and tubers|    Wheat|2005|    1|8.485416412|-1.024772406|Normal|           KG|   Retail|     AFN|1_267_84_15_5_87|              8.485416412|     AFN|                   77.000368|      0.012986950919507296|0.11019968647422569|\n",
      "|Afghanistan|   269|  Maymana|cereals and tubers|    Wheat|2005|    1|10.06033325|-0.015499226|Normal|           KG|   Retail|     AFN|1_269_84_15_5_87|              10.06033325|     AFN|                   77.000368|      0.012986950919507296| 0.1306530541516373|\n",
      "|Afghanistan|   270|    Hirat|cereals and tubers|    Wheat|2005|    1|10.49187469| 0.639433086|Stress|           KG|   Retail|     AFN|1_270_84_15_5_87|              10.49187469|     AFN|                   77.000368|      0.012986950919507296|0.13625746165265082|\n",
      "|Afghanistan|   271|    Kabul|cereals and tubers|    Wheat|2005|    1|11.82572937| 0.573255241|Stress|           KG|   Retail|     AFN|1_271_84_15_5_87|              11.82572937|     AFN|                   77.000368|      0.012986950919507296|0.15358016691556592|\n",
      "|Afghanistan|   272| Kandahar|cereals and tubers|    Wheat|2005|    1|11.60656261|  1.40313828| Alert|           KG|   Retail|     AFN|1_272_84_15_5_87|              11.60656261|     AFN|                   77.000368|      0.012986950919507296|0.15073385896025848|\n",
      "|Afghanistan|   273|Jalalabad|cereals and tubers|    Wheat|2005|    1| 10.8397913| 2.255872488|Crisis|           KG|   Retail|     AFN|1_273_84_15_5_87|               10.8397913|     AFN|                   77.000368|      0.012986950919507296|0.14077583759080217|\n",
      "|Afghanistan|   266| Fayzabad|cereals and tubers|    Wheat|2006|    1|13.25958347|  0.45039621|Stress|           KG|   Retail|     AFN|1_266_84_15_5_87|              13.25958347|     AFN|                   77.000368|      0.012986950919507296|0.17220155973800025|\n",
      "+-----------+------+---------+------------------+---------+----+-----+-----------+------------+------+-------------+---------+--------+----------------+-------------------------+--------+----------------------------+--------------------------+-------------------+\n",
      "only showing top 20 rows\n",
      "\n"
     ]
    }
   ],
   "source": [
    "#Creating a new column to convert the existing attribute PriceTrend in USD\n",
    "data = data.withColumn(\"price_trend_USD\", F.col(\"only_positive_price_trend\") * F.col(\"rate_USD_in_local_currency\"))\n",
    "data.show()"
   ]
  },
  {
   "cell_type": "code",
   "execution_count": 18,
   "metadata": {
    "application/vnd.databricks.v1+cell": {
     "inputWidgets": {},
     "nuid": "4fb130db-27c2-4bd1-b7ce-7fe2da7906c4",
     "showTitle": false,
     "title": ""
    }
   },
   "outputs": [
    {
     "name": "stdout",
     "output_type": "stream",
     "text": [
      "+-----------+------+---------+------------------+---------+----+-----+------------+------+---------+-------------------+\n",
      "|    Country|mkt_id|   Market|    CommodityGroup|Commodity|Year|Month|        PEWI|  ALPS|PriceType|    price_trend_USD|\n",
      "+-----------+------+---------+------------------+---------+----+-----+------------+------+---------+-------------------+\n",
      "|Afghanistan|   266| Fayzabad|cereals and tubers|    Wheat|2003|    1|  1.60303044| Alert|   Retail|0.07385110858171484|\n",
      "|Afghanistan|   267|    Mazar|cereals and tubers|    Wheat|2003|    1|  2.71366787|Crisis|   Retail|0.07421501410227027|\n",
      "|Afghanistan|   270|    Hirat|cereals and tubers|    Wheat|2003|    1| 0.357086003|Stress|   Retail|0.07478048452963239|\n",
      "|Afghanistan|   271|    Kabul|cereals and tubers|    Wheat|2003|    1| 0.716033936|Stress|   Retail|0.08321524149079393|\n",
      "|Afghanistan|   272| Kandahar|cereals and tubers|    Wheat|2003|    1|-0.842860222|Normal|   Retail|0.10809607677459414|\n",
      "|Afghanistan|   273|Jalalabad|cereals and tubers|    Wheat|2003|    1|-1.204661369|Normal|   Retail|0.10554332576696257|\n",
      "|Afghanistan|   266| Fayzabad|cereals and tubers|    Wheat|2004|    1|-2.563017845|Normal|   Retail|0.10584364504595617|\n",
      "|Afghanistan|   267|    Mazar|cereals and tubers|    Wheat|2004|    1|-1.688895345|Normal|   Retail|0.09220735029474146|\n",
      "|Afghanistan|   270|    Hirat|cereals and tubers|    Wheat|2004|    1|-0.996519148|Normal|   Retail|0.10551897622099678|\n",
      "|Afghanistan|   271|    Kabul|cereals and tubers|    Wheat|2004|    1|-1.289289236|Normal|   Retail|0.11839770420317994|\n",
      "|Afghanistan|   272| Kandahar|cereals and tubers|    Wheat|2004|    1|-0.560278118|Normal|   Retail|0.12941496789989368|\n",
      "|Afghanistan|   273|Jalalabad|cereals and tubers|    Wheat|2004|    1|-1.051211238|Normal|   Retail|0.12315958786067104|\n",
      "|Afghanistan|   266| Fayzabad|cereals and tubers|    Wheat|2005|    1| 0.959987581|Stress|   Retail|0.13783619384780085|\n",
      "|Afghanistan|   267|    Mazar|cereals and tubers|    Wheat|2005|    1|-1.024772406|Normal|   Retail|0.11019968647422569|\n",
      "|Afghanistan|   269|  Maymana|cereals and tubers|    Wheat|2005|    1|-0.015499226|Normal|   Retail| 0.1306530541516373|\n",
      "|Afghanistan|   270|    Hirat|cereals and tubers|    Wheat|2005|    1| 0.639433086|Stress|   Retail|0.13625746165265082|\n",
      "|Afghanistan|   271|    Kabul|cereals and tubers|    Wheat|2005|    1| 0.573255241|Stress|   Retail|0.15358016691556592|\n",
      "|Afghanistan|   272| Kandahar|cereals and tubers|    Wheat|2005|    1|  1.40313828| Alert|   Retail|0.15073385896025848|\n",
      "|Afghanistan|   273|Jalalabad|cereals and tubers|    Wheat|2005|    1| 2.255872488|Crisis|   Retail|0.14077583759080217|\n",
      "|Afghanistan|   266| Fayzabad|cereals and tubers|    Wheat|2006|    1|  0.45039621|Stress|   Retail|0.17220155973800025|\n",
      "+-----------+------+---------+------------------+---------+----+-----+------------+------+---------+-------------------+\n",
      "only showing top 20 rows\n",
      "\n"
     ]
    }
   ],
   "source": [
    "#Dropping the columns which are of no use now\n",
    "columns_to_drop = ['UnitOfMeasure','Currency','sn','PriceTrend','only_positive_price_trend','Rate ( 1USD = Currency Rate)','rate_USD_in_local_currency']\n",
    "data = data.drop(*columns_to_drop)\n",
    "data.show()"
   ]
  },
  {
   "cell_type": "code",
   "execution_count": 19,
   "metadata": {
    "application/vnd.databricks.v1+cell": {
     "inputWidgets": {},
     "nuid": "c3fc7b2c-5e06-447e-810a-fd552d12448e",
     "showTitle": false,
     "title": ""
    }
   },
   "outputs": [
    {
     "name": "stdout",
     "output_type": "stream",
     "text": [
      "+-------+-----------+-----------------+-------+--------------------+-------------+-----------------+------------------+--------------------+------+---------+------------------+\n",
      "|summary|    Country|           mkt_id| Market|      CommodityGroup|    Commodity|             Year|             Month|                PEWI|  ALPS|PriceType|   price_trend_USD|\n",
      "+-------+-----------+-----------------+-------+--------------------+-------------+-----------------+------------------+--------------------+------+---------+------------------+\n",
      "|  count|     461752|           461752| 461752|              461752|       461752|           461752|            461752|              461752|461752|   461752|            461752|\n",
      "|   mean|       null|886.2232973544241|   null|                null|         null|2013.347836067846|6.4094665534745925|-0.01090965834247...|  null|     null| 5.476171841697306|\n",
      "| stddev|       null|658.1508771875784|   null|                null|         null|4.023248752925489|3.4480120528264093|   1.169170817329491|  null|     null|41.228583011721895|\n",
      "|    min|Afghanistan|               80|  Abala|  cereals and tubers|      Bananas|             2003|                 1|        -7.468635559| Alert|Farm Gate|               0.0|\n",
      "|    max|   Zimbabwe|             3402|m. Kyiv|vegetables and fr...|Yam (florido)|             2020|                12|         12.76725483|Stress|Wholesale|1852.5962738085339|\n",
      "+-------+-----------+-----------------+-------+--------------------+-------------+-----------------+------------------+--------------------+------+---------+------------------+\n",
      "\n"
     ]
    }
   ],
   "source": [
    "#Statistical data description\n",
    "data.describe().show()"
   ]
  },
  {
   "cell_type": "code",
   "execution_count": 20,
   "metadata": {},
   "outputs": [
    {
     "name": "stdout",
     "output_type": "stream",
     "text": [
      "+-----------+------+---------+------------------+---------+----+-----+------------+------+---------+-------------------+----------+--------------------+---------------+\n",
      "|    Country|mkt_id|   Market|    CommodityGroup|Commodity|Year|Month|        PEWI|  ALPS|PriceType|    price_trend_USD|ALPS_index|CommodityGroup_index|PriceType_index|\n",
      "+-----------+------+---------+------------------+---------+----+-----+------------+------+---------+-------------------+----------+--------------------+---------------+\n",
      "|Afghanistan|   266| Fayzabad|cereals and tubers|    Wheat|2003|    1|  1.60303044| Alert|   Retail|0.07385110858171484|       2.0|                 0.0|            0.0|\n",
      "|Afghanistan|   267|    Mazar|cereals and tubers|    Wheat|2003|    1|  2.71366787|Crisis|   Retail|0.07421501410227027|       3.0|                 0.0|            0.0|\n",
      "|Afghanistan|   270|    Hirat|cereals and tubers|    Wheat|2003|    1| 0.357086003|Stress|   Retail|0.07478048452963239|       1.0|                 0.0|            0.0|\n",
      "|Afghanistan|   271|    Kabul|cereals and tubers|    Wheat|2003|    1| 0.716033936|Stress|   Retail|0.08321524149079393|       1.0|                 0.0|            0.0|\n",
      "|Afghanistan|   272| Kandahar|cereals and tubers|    Wheat|2003|    1|-0.842860222|Normal|   Retail|0.10809607677459414|       0.0|                 0.0|            0.0|\n",
      "|Afghanistan|   273|Jalalabad|cereals and tubers|    Wheat|2003|    1|-1.204661369|Normal|   Retail|0.10554332576696257|       0.0|                 0.0|            0.0|\n",
      "|Afghanistan|   266| Fayzabad|cereals and tubers|    Wheat|2004|    1|-2.563017845|Normal|   Retail|0.10584364504595617|       0.0|                 0.0|            0.0|\n",
      "|Afghanistan|   267|    Mazar|cereals and tubers|    Wheat|2004|    1|-1.688895345|Normal|   Retail|0.09220735029474146|       0.0|                 0.0|            0.0|\n",
      "|Afghanistan|   270|    Hirat|cereals and tubers|    Wheat|2004|    1|-0.996519148|Normal|   Retail|0.10551897622099678|       0.0|                 0.0|            0.0|\n",
      "|Afghanistan|   271|    Kabul|cereals and tubers|    Wheat|2004|    1|-1.289289236|Normal|   Retail|0.11839770420317994|       0.0|                 0.0|            0.0|\n",
      "|Afghanistan|   272| Kandahar|cereals and tubers|    Wheat|2004|    1|-0.560278118|Normal|   Retail|0.12941496789989368|       0.0|                 0.0|            0.0|\n",
      "|Afghanistan|   273|Jalalabad|cereals and tubers|    Wheat|2004|    1|-1.051211238|Normal|   Retail|0.12315958786067104|       0.0|                 0.0|            0.0|\n",
      "|Afghanistan|   266| Fayzabad|cereals and tubers|    Wheat|2005|    1| 0.959987581|Stress|   Retail|0.13783619384780085|       1.0|                 0.0|            0.0|\n",
      "|Afghanistan|   267|    Mazar|cereals and tubers|    Wheat|2005|    1|-1.024772406|Normal|   Retail|0.11019968647422569|       0.0|                 0.0|            0.0|\n",
      "|Afghanistan|   269|  Maymana|cereals and tubers|    Wheat|2005|    1|-0.015499226|Normal|   Retail| 0.1306530541516373|       0.0|                 0.0|            0.0|\n",
      "|Afghanistan|   270|    Hirat|cereals and tubers|    Wheat|2005|    1| 0.639433086|Stress|   Retail|0.13625746165265082|       1.0|                 0.0|            0.0|\n",
      "|Afghanistan|   271|    Kabul|cereals and tubers|    Wheat|2005|    1| 0.573255241|Stress|   Retail|0.15358016691556592|       1.0|                 0.0|            0.0|\n",
      "|Afghanistan|   272| Kandahar|cereals and tubers|    Wheat|2005|    1|  1.40313828| Alert|   Retail|0.15073385896025848|       2.0|                 0.0|            0.0|\n",
      "|Afghanistan|   273|Jalalabad|cereals and tubers|    Wheat|2005|    1| 2.255872488|Crisis|   Retail|0.14077583759080217|       3.0|                 0.0|            0.0|\n",
      "|Afghanistan|   266| Fayzabad|cereals and tubers|    Wheat|2006|    1|  0.45039621|Stress|   Retail|0.17220155973800025|       1.0|                 0.0|            0.0|\n",
      "+-----------+------+---------+------------------+---------+----+-----+------------+------+---------+-------------------+----------+--------------------+---------------+\n",
      "only showing top 20 rows\n",
      "\n"
     ]
    }
   ],
   "source": [
    "#Building pipeline and converting Categorical Variables to Numerical Variables\n",
    "from pyspark.ml import Pipeline\n",
    "from pyspark.ml.feature import StringIndexer\n",
    "\n",
    "indexers = [StringIndexer(inputCol=column, outputCol=column+\"_index\").fit(data) for column in list(set(data.columns)-set(['Country','mkt_id','Market','Commodity','Year','Month','PEWI','price_trend_USD'])) ]\n",
    "\n",
    "\n",
    "pipeline = Pipeline(stages=indexers)\n",
    "data = pipeline.fit(data).transform(data)\n",
    "\n",
    "data.show()"
   ]
  },
  {
   "cell_type": "code",
   "execution_count": 21,
   "metadata": {},
   "outputs": [
    {
     "name": "stdout",
     "output_type": "stream",
     "text": [
      "+-------+-----------+-----------------+-------+--------------------+-------------+-----------------+------------------+--------------------+------+---------+------------------+------------------+--------------------+-------------------+\n",
      "|summary|    Country|           mkt_id| Market|      CommodityGroup|    Commodity|             Year|             Month|                PEWI|  ALPS|PriceType|   price_trend_USD|        ALPS_index|CommodityGroup_index|    PriceType_index|\n",
      "+-------+-----------+-----------------+-------+--------------------+-------------+-----------------+------------------+--------------------+------+---------+------------------+------------------+--------------------+-------------------+\n",
      "|  count|     461752|           461752| 461752|              461752|       461752|           461752|            461752|              461752|461752|   461752|            461752|            461752|              461752|             461752|\n",
      "|   mean|       null|886.2232973544241|   null|                null|         null|2013.347836067846|6.4094665534745925|-0.01090965834247...|  null|     null| 5.476171841697306|0.5977884232228555|  0.3688971569154005|0.11431244477555051|\n",
      "| stddev|       null|658.1508771875784|   null|                null|         null|4.023248752925489|3.4480120528264093|   1.169170817329491|  null|     null|41.228583011721895|0.8913512940841168|  0.9821321541292686|0.32241652520973196|\n",
      "|    min|Afghanistan|               80|  Abala|  cereals and tubers|      Bananas|             2003|                 1|        -7.468635559| Alert|Farm Gate|               0.0|               0.0|                 0.0|                0.0|\n",
      "|    max|   Zimbabwe|             3402|m. Kyiv|vegetables and fr...|Yam (florido)|             2020|                12|         12.76725483|Stress|Wholesale|1852.5962738085339|               3.0|                 6.0|                2.0|\n",
      "+-------+-----------+-----------------+-------+--------------------+-------------+-----------------+------------------+--------------------+------+---------+------------------+------------------+--------------------+-------------------+\n",
      "\n"
     ]
    }
   ],
   "source": [
    "data.describe().show()"
   ]
  },
  {
   "cell_type": "code",
   "execution_count": 22,
   "metadata": {
    "application/vnd.databricks.v1+cell": {
     "inputWidgets": {},
     "nuid": "a0e67725-2da8-452b-b4a7-7b6164378421",
     "showTitle": false,
     "title": ""
    }
   },
   "outputs": [
    {
     "name": "stdout",
     "output_type": "stream",
     "text": [
      "+-----------+------+---------+------------------+----+------------+-------------------+----------+--------------------+---------------+\n",
      "|    Country|mkt_id|   Market|    CommodityGroup|Year|        PEWI|    price_trend_USD|ALPS_index|CommodityGroup_index|PriceType_index|\n",
      "+-----------+------+---------+------------------+----+------------+-------------------+----------+--------------------+---------------+\n",
      "|Afghanistan|   266| Fayzabad|cereals and tubers|2003|  1.60303044|0.07385110858171484|       2.0|                 0.0|            0.0|\n",
      "|Afghanistan|   267|    Mazar|cereals and tubers|2003|  2.71366787|0.07421501410227027|       3.0|                 0.0|            0.0|\n",
      "|Afghanistan|   270|    Hirat|cereals and tubers|2003| 0.357086003|0.07478048452963239|       1.0|                 0.0|            0.0|\n",
      "|Afghanistan|   271|    Kabul|cereals and tubers|2003| 0.716033936|0.08321524149079393|       1.0|                 0.0|            0.0|\n",
      "|Afghanistan|   272| Kandahar|cereals and tubers|2003|-0.842860222|0.10809607677459414|       0.0|                 0.0|            0.0|\n",
      "|Afghanistan|   273|Jalalabad|cereals and tubers|2003|-1.204661369|0.10554332576696257|       0.0|                 0.0|            0.0|\n",
      "|Afghanistan|   266| Fayzabad|cereals and tubers|2004|-2.563017845|0.10584364504595617|       0.0|                 0.0|            0.0|\n",
      "|Afghanistan|   267|    Mazar|cereals and tubers|2004|-1.688895345|0.09220735029474146|       0.0|                 0.0|            0.0|\n",
      "|Afghanistan|   270|    Hirat|cereals and tubers|2004|-0.996519148|0.10551897622099678|       0.0|                 0.0|            0.0|\n",
      "|Afghanistan|   271|    Kabul|cereals and tubers|2004|-1.289289236|0.11839770420317994|       0.0|                 0.0|            0.0|\n",
      "|Afghanistan|   272| Kandahar|cereals and tubers|2004|-0.560278118|0.12941496789989368|       0.0|                 0.0|            0.0|\n",
      "|Afghanistan|   273|Jalalabad|cereals and tubers|2004|-1.051211238|0.12315958786067104|       0.0|                 0.0|            0.0|\n",
      "|Afghanistan|   266| Fayzabad|cereals and tubers|2005| 0.959987581|0.13783619384780085|       1.0|                 0.0|            0.0|\n",
      "|Afghanistan|   267|    Mazar|cereals and tubers|2005|-1.024772406|0.11019968647422569|       0.0|                 0.0|            0.0|\n",
      "|Afghanistan|   269|  Maymana|cereals and tubers|2005|-0.015499226| 0.1306530541516373|       0.0|                 0.0|            0.0|\n",
      "|Afghanistan|   270|    Hirat|cereals and tubers|2005| 0.639433086|0.13625746165265082|       1.0|                 0.0|            0.0|\n",
      "|Afghanistan|   271|    Kabul|cereals and tubers|2005| 0.573255241|0.15358016691556592|       1.0|                 0.0|            0.0|\n",
      "|Afghanistan|   272| Kandahar|cereals and tubers|2005|  1.40313828|0.15073385896025848|       2.0|                 0.0|            0.0|\n",
      "|Afghanistan|   273|Jalalabad|cereals and tubers|2005| 2.255872488|0.14077583759080217|       3.0|                 0.0|            0.0|\n",
      "|Afghanistan|   266| Fayzabad|cereals and tubers|2006|  0.45039621|0.17220155973800025|       1.0|                 0.0|            0.0|\n",
      "+-----------+------+---------+------------------+----+------------+-------------------+----------+--------------------+---------------+\n",
      "only showing top 20 rows\n",
      "\n"
     ]
    }
   ],
   "source": [
    "#dropping of columns to prepare for predictions\n",
    "columns_to_drop = ['Commodity', 'PriceTrend','ALPS','PriceType','Month','id','Rate ( 1USD = Currency Rate)', 'rate_USD_in_local_currency']\n",
    "data = data.drop(*columns_to_drop)\n",
    "data.show()"
   ]
  },
  {
   "cell_type": "code",
   "execution_count": 23,
   "metadata": {
    "application/vnd.databricks.v1+cell": {
     "inputWidgets": {},
     "nuid": "4a5c56b8-612d-4d4f-8241-0a6d78d83486",
     "showTitle": false,
     "title": ""
    }
   },
   "outputs": [
    {
     "name": "stdout",
     "output_type": "stream",
     "text": [
      "+-------+-----------+-----------------+-------+--------------------+-----------------+--------------------+------------------+------------------+--------------------+-------------------+\n",
      "|summary|    Country|           mkt_id| Market|      CommodityGroup|             Year|                PEWI|   price_trend_USD|        ALPS_index|CommodityGroup_index|    PriceType_index|\n",
      "+-------+-----------+-----------------+-------+--------------------+-----------------+--------------------+------------------+------------------+--------------------+-------------------+\n",
      "|  count|     461752|           461752| 461752|              461752|           461752|              461752|            461752|            461752|              461752|             461752|\n",
      "|   mean|       null|886.2232973544241|   null|                null|2013.347836067846|-0.01090965834247...| 5.476171841697306|0.5977884232228555|  0.3688971569154005|0.11431244477555051|\n",
      "| stddev|       null|658.1508771875784|   null|                null|4.023248752925489|   1.169170817329491|41.228583011721895|0.8913512940841168|  0.9821321541292686|0.32241652520973196|\n",
      "|    min|Afghanistan|               80|  Abala|  cereals and tubers|             2003|        -7.468635559|               0.0|               0.0|                 0.0|                0.0|\n",
      "|    max|   Zimbabwe|             3402|m. Kyiv|vegetables and fr...|             2020|         12.76725483|1852.5962738085339|               3.0|                 6.0|                2.0|\n",
      "+-------+-----------+-----------------+-------+--------------------+-----------------+--------------------+------------------+------------------+--------------------+-------------------+\n",
      "\n"
     ]
    }
   ],
   "source": [
    "data.describe().show()"
   ]
  },
  {
   "cell_type": "markdown",
   "metadata": {
    "application/vnd.databricks.v1+cell": {
     "inputWidgets": {},
     "nuid": "f76ce356-7582-4469-abf3-ea5bae65637b",
     "showTitle": false,
     "title": ""
    }
   },
   "source": [
    "## Assembling the attributes"
   ]
  },
  {
   "cell_type": "code",
   "execution_count": 24,
   "metadata": {
    "application/vnd.databricks.v1+cell": {
     "inputWidgets": {},
     "nuid": "af07ed75-f8cb-408f-93d8-ee98ccbfa220",
     "showTitle": false,
     "title": ""
    }
   },
   "outputs": [],
   "source": [
    "#importing the assembly libraries\n",
    "from pyspark.ml.linalg import Vectors\n",
    "from pyspark.ml.feature import VectorAssembler"
   ]
  },
  {
   "cell_type": "code",
   "execution_count": 25,
   "metadata": {
    "application/vnd.databricks.v1+cell": {
     "inputWidgets": {},
     "nuid": "dd6b4b01-a0a5-43ea-854a-4b06a9a01732",
     "showTitle": false,
     "title": ""
    }
   },
   "outputs": [
    {
     "data": {
      "text/plain": [
       "['Country',\n",
       " 'mkt_id',\n",
       " 'Market',\n",
       " 'CommodityGroup',\n",
       " 'Year',\n",
       " 'PEWI',\n",
       " 'price_trend_USD',\n",
       " 'ALPS_index',\n",
       " 'CommodityGroup_index',\n",
       " 'PriceType_index']"
      ]
     },
     "execution_count": 25,
     "metadata": {},
     "output_type": "execute_result"
    }
   ],
   "source": [
    "#Checking the columns\n",
    "data.columns"
   ]
  },
  {
   "cell_type": "code",
   "execution_count": 26,
   "metadata": {
    "application/vnd.databricks.v1+cell": {
     "inputWidgets": {},
     "nuid": "debaa216-a3bf-4674-8c48-23c8d203078a",
     "showTitle": false,
     "title": ""
    }
   },
   "outputs": [],
   "source": [
    "#Creating a features attribute to assemble all input columns into one features column\n",
    "assembler = VectorAssembler(\n",
    "    inputCols=['mkt_id','PEWI','Year','CommodityGroup_index',\n",
    " 'ALPS_index',\n",
    " 'PriceType_index'],\n",
    "    outputCol=\"features\")\n",
    "data = assembler.transform(data)"
   ]
  },
  {
   "cell_type": "code",
   "execution_count": 27,
   "metadata": {
    "application/vnd.databricks.v1+cell": {
     "inputWidgets": {},
     "nuid": "ba30f5b9-5a51-489a-8569-73072c10939a",
     "showTitle": false,
     "title": ""
    }
   },
   "outputs": [
    {
     "name": "stdout",
     "output_type": "stream",
     "text": [
      "+-------+-----------+-----------------+-------+--------------------+-----------------+--------------------+------------------+------------------+--------------------+-------------------+\n",
      "|summary|    Country|           mkt_id| Market|      CommodityGroup|             Year|                PEWI|   price_trend_USD|        ALPS_index|CommodityGroup_index|    PriceType_index|\n",
      "+-------+-----------+-----------------+-------+--------------------+-----------------+--------------------+------------------+------------------+--------------------+-------------------+\n",
      "|  count|     461752|           461752| 461752|              461752|           461752|              461752|            461752|            461752|              461752|             461752|\n",
      "|   mean|       null|886.2232973544241|   null|                null|2013.347836067846|-0.01090965834247...| 5.476171841697306|0.5977884232228555|  0.3688971569154005|0.11431244477555051|\n",
      "| stddev|       null|658.1508771875784|   null|                null|4.023248752925489|   1.169170817329491|41.228583011721895|0.8913512940841168|  0.9821321541292686|0.32241652520973196|\n",
      "|    min|Afghanistan|               80|  Abala|  cereals and tubers|             2003|        -7.468635559|               0.0|               0.0|                 0.0|                0.0|\n",
      "|    max|   Zimbabwe|             3402|m. Kyiv|vegetables and fr...|             2020|         12.76725483|1852.5962738085339|               3.0|                 6.0|                2.0|\n",
      "+-------+-----------+-----------------+-------+--------------------+-----------------+--------------------+------------------+------------------+--------------------+-------------------+\n",
      "\n"
     ]
    }
   ],
   "source": [
    "data.describe().show()"
   ]
  },
  {
   "cell_type": "markdown",
   "metadata": {
    "application/vnd.databricks.v1+cell": {
     "inputWidgets": {},
     "nuid": "bdbc1984-d517-4243-8f49-836fd7365747",
     "showTitle": false,
     "title": ""
    }
   },
   "source": [
    "### Splitting the train and test data"
   ]
  },
  {
   "cell_type": "code",
   "execution_count": 28,
   "metadata": {
    "application/vnd.databricks.v1+cell": {
     "inputWidgets": {},
     "nuid": "1649ba45-7429-41bb-a0cc-f7c45026f393",
     "showTitle": false,
     "title": ""
    }
   },
   "outputs": [],
   "source": [
    "#Splitting training and testing dataset\n",
    "train_set, test_set = data.randomSplit([0.7,.3])"
   ]
  },
  {
   "cell_type": "markdown",
   "metadata": {
    "application/vnd.databricks.v1+cell": {
     "inputWidgets": {},
     "nuid": "b54b01be-fa25-471e-8612-784fcb570adf",
     "showTitle": false,
     "title": ""
    }
   },
   "source": [
    "## Linear Regression"
   ]
  },
  {
   "cell_type": "code",
   "execution_count": 29,
   "metadata": {
    "application/vnd.databricks.v1+cell": {
     "inputWidgets": {},
     "nuid": "74b913a0-dbea-468d-a94d-6375c46a39c5",
     "showTitle": false,
     "title": ""
    }
   },
   "outputs": [],
   "source": [
    "#importing the machine learning package\n",
    "from pyspark.ml.regression import LinearRegression\n",
    "from pyspark.ml.evaluation import RegressionEvaluator"
   ]
  },
  {
   "cell_type": "code",
   "execution_count": 30,
   "metadata": {
    "application/vnd.databricks.v1+cell": {
     "inputWidgets": {},
     "nuid": "7a9433c3-e9fc-45a5-a962-25ffe473ebfb",
     "showTitle": false,
     "title": ""
    }
   },
   "outputs": [],
   "source": [
    "# Fit training data of linear regression model\n",
    "lreg_model = LinearRegression(featuresCol='features', labelCol='price_trend_USD', predictionCol='prediction')\n",
    "fitlreg = lreg_model.fit(train_set)"
   ]
  },
  {
   "cell_type": "code",
   "execution_count": 31,
   "metadata": {
    "application/vnd.databricks.v1+cell": {
     "inputWidgets": {},
     "nuid": "d3d1c407-71b5-4267-99a0-8d1ae555f51c",
     "showTitle": false,
     "title": ""
    }
   },
   "outputs": [
    {
     "name": "stdout",
     "output_type": "stream",
     "text": [
      "Coefficients: [-0.0012770436457039435,-0.6766638419299567,0.4371965668207353,0.6410056762714059,0.6069219013574398,40.54904502387377] Intercept: -878.8609573554515\n"
     ]
    }
   ],
   "source": [
    "# Print the equation of the developed linear regression\n",
    "print(\"Coefficients: {} Intercept: {}\".format(fitlreg.coefficients,fitlreg.intercept))"
   ]
  },
  {
   "cell_type": "code",
   "execution_count": 32,
   "metadata": {
    "application/vnd.databricks.v1+cell": {
     "inputWidgets": {},
     "nuid": "915c6607-ac66-4312-b912-a9f604a75339",
     "showTitle": false,
     "title": ""
    }
   },
   "outputs": [
    {
     "name": "stdout",
     "output_type": "stream",
     "text": [
      "+------------------+\n",
      "|         residuals|\n",
      "+------------------+\n",
      "| 3.140759872718061|\n",
      "|3.4848015345195282|\n",
      "|3.7373020803687993|\n",
      "|2.9237879260370057|\n",
      "| 2.741282524992972|\n",
      "|1.7012074481418415|\n",
      "| 2.802037666889345|\n",
      "|1.4648636285694634|\n",
      "|1.8431994362748476|\n",
      "|1.8687029156284447|\n",
      "| 2.196117237552765|\n",
      "| 2.460006698790107|\n",
      "|1.8138226159478945|\n",
      "|1.9067993914453374|\n",
      "|1.7649995746695208|\n",
      "| 2.233659338904829|\n",
      "|1.9987396587916892|\n",
      "| 2.325134210154372|\n",
      "|1.5676399811807966|\n",
      "|1.5311583101591721|\n",
      "+------------------+\n",
      "only showing top 20 rows\n",
      "\n"
     ]
    }
   ],
   "source": [
    "#fitting testing data of linear regression model\n",
    "test_pred = fitlreg.evaluate(test_set)\n",
    "test_pred.residuals.show()"
   ]
  },
  {
   "cell_type": "code",
   "execution_count": 33,
   "metadata": {
    "application/vnd.databricks.v1+cell": {
     "inputWidgets": {},
     "nuid": "4a963b2b-3028-4f62-a223-9337f53a9a67",
     "showTitle": false,
     "title": ""
    }
   },
   "outputs": [
    {
     "name": "stdout",
     "output_type": "stream",
     "text": [
      "+-----------+------+--------+------------------+----+------------+-------------------+----------+--------------------+---------------+--------------------+-------------------+\n",
      "|    Country|mkt_id|  Market|    CommodityGroup|Year|        PEWI|    price_trend_USD|ALPS_index|CommodityGroup_index|PriceType_index|            features|         prediction|\n",
      "+-----------+------+--------+------------------+----+------------+-------------------+----------+--------------------+---------------+--------------------+-------------------+\n",
      "|Afghanistan|   266|Fayzabad|cereals and tubers|2003|-0.673173606| 0.1003444879640056|       0.0|                 0.0|            0.0|[266.0,-0.6731736...|-3.0404153847540556|\n",
      "|Afghanistan|   266|Fayzabad|cereals and tubers|2003|-0.148812696|0.08957008184688157|       0.0|                 0.0|            0.0|[266.0,-0.1488126...| -3.395231452672647|\n",
      "|Afghanistan|   266|Fayzabad|cereals and tubers|2003| 0.225916818|0.08850471506837475|       0.0|                 0.0|            0.0|[266.0,0.22591681...|-3.6487973653004246|\n",
      "|Afghanistan|   266|Fayzabad|cereals and tubers|2004| 1.401523352|0.13054049637788745|       2.0|                 0.0|            0.0|[266.0,1.40152335...| -2.793247429659118|\n",
      "|Afghanistan|   266|Fayzabad|cereals and tubers|2004|  2.02803874| 0.1310166872189494|       3.0|                 0.0|            0.0|[266.0,2.02803874...|-2.6102658377740227|\n",
      "|Afghanistan|   266|Fayzabad|cereals and tubers|2005|-1.600996256|0.16300923600780715|       0.0|                 0.0|            0.0|[266.0,-1.6009962...|-1.5381982121340343|\n",
      "|Afghanistan|   266|Fayzabad|cereals and tubers|2005| 0.959987581|0.13783619384780085|       1.0|                 0.0|            0.0|[266.0,0.95998758...| -2.664201473041544|\n",
      "|Afghanistan|   266|Fayzabad|cereals and tubers|2006|-1.331980586| 0.1818288064545354|       0.0|                 0.0|            0.0|[266.0,-1.3319805...| -1.283034822114928|\n",
      "|Afghanistan|   266|Fayzabad|cereals and tubers|2006|-0.772322714| 0.1814643683261358|       0.0|                 0.0|            0.0|[266.0,-0.7723227...|-1.6617350679487117|\n",
      "|Afghanistan|   266|Fayzabad|cereals and tubers|2006|-0.746699035|0.18962923060315764|       0.0|                 0.0|            0.0|[266.0,-0.7466990...| -1.679073685025287|\n",
      "|Afghanistan|   266|Fayzabad|cereals and tubers|2006| -0.25037092|0.18119626337370234|       0.0|                 0.0|            0.0|[266.0,-0.2503709...| -2.014920974179063|\n",
      "|Afghanistan|   266|Fayzabad|cereals and tubers|2006| 0.138399616| 0.1820187600921596|       0.0|                 0.0|            0.0|[266.0,0.13839961...|-2.2779879386979474|\n",
      "|Afghanistan|   266|Fayzabad|cereals and tubers|2007|-0.695550442| 0.5373350942946143|       0.0|                 0.0|            0.0|[266.0,-0.6955504...|  -1.27648752165328|\n",
      "|Afghanistan|   266|Fayzabad|cereals and tubers|2007|-0.554467201| 0.5348459419051089|       0.0|                 0.0|            0.0|[266.0,-0.5544672...|-1.3719534495402286|\n",
      "|Afghanistan|   266|Fayzabad|cereals and tubers|2007|-0.265488863|0.19750493270369826|       0.0|                 0.0|            0.0|[266.0,-0.2654888...|-1.5674946419658227|\n",
      "|Afghanistan|   266|Fayzabad|cereals and tubers|2007|-0.026638102| 0.5045430233528235|       0.0|                 0.0|            0.0|[266.0,-0.0266381...|-1.7291163155520053|\n",
      "|Afghanistan|   266|Fayzabad|cereals and tubers|2007| 0.020289449|0.23786916628762092|       0.0|                 0.0|            0.0|[266.0,0.02028944...|-1.7608704925040684|\n",
      "|Afghanistan|   266|Fayzabad|cereals and tubers|2007|  0.09175346| 0.5159066054073924|       0.0|                 0.0|            0.0|[266.0,0.09175346...|-1.8092276047469795|\n",
      "|Afghanistan|   266|Fayzabad|cereals and tubers|2007| 0.329391778|0.20453302054348627|       1.0|                 0.0|            0.0|[266.0,0.32939177...|-1.3631069606373103|\n",
      "|Afghanistan|   266|Fayzabad|cereals and tubers|2007| 1.110101342|0.24669531787172758|       2.0|                 0.0|            0.0|[266.0,1.11010134...|-1.2844629922874446|\n",
      "+-----------+------+--------+------------------+----+------------+-------------------+----------+--------------------+---------------+--------------------+-------------------+\n",
      "only showing top 20 rows\n",
      "\n"
     ]
    }
   ],
   "source": [
    "#Checking the prediction of the model on test dataset\n",
    "test_prediction = fitlreg.transform(test_set)\n",
    "test_prediction.show()"
   ]
  },
  {
   "cell_type": "code",
   "execution_count": 34,
   "metadata": {
    "application/vnd.databricks.v1+cell": {
     "inputWidgets": {},
     "nuid": "c98aadf8-b2bb-450e-8cde-62b5b0788681",
     "showTitle": false,
     "title": ""
    }
   },
   "outputs": [
    {
     "name": "stdout",
     "output_type": "stream",
     "text": [
      "+-----------+--------+----+------------------+--------------------+-------------------+-------------------+\n",
      "|    Country|  market|Year|    CommodityGroup|            features|    Price_trend_USD|         prediction|\n",
      "+-----------+--------+----+------------------+--------------------+-------------------+-------------------+\n",
      "|Afghanistan|Fayzabad|2003|cereals and tubers|[266.0,-0.6731736...| 0.1003444879640056|-3.0404153847540556|\n",
      "|Afghanistan|Fayzabad|2003|cereals and tubers|[266.0,-0.1488126...|0.08957008184688157| -3.395231452672647|\n",
      "|Afghanistan|Fayzabad|2003|cereals and tubers|[266.0,0.22591681...|0.08850471506837475|-3.6487973653004246|\n",
      "|Afghanistan|Fayzabad|2004|cereals and tubers|[266.0,1.40152335...|0.13054049637788745| -2.793247429659118|\n",
      "|Afghanistan|Fayzabad|2004|cereals and tubers|[266.0,2.02803874...| 0.1310166872189494|-2.6102658377740227|\n",
      "|Afghanistan|Fayzabad|2005|cereals and tubers|[266.0,-1.6009962...|0.16300923600780715|-1.5381982121340343|\n",
      "|Afghanistan|Fayzabad|2005|cereals and tubers|[266.0,0.95998758...|0.13783619384780085| -2.664201473041544|\n",
      "|Afghanistan|Fayzabad|2006|cereals and tubers|[266.0,-1.3319805...| 0.1818288064545354| -1.283034822114928|\n",
      "|Afghanistan|Fayzabad|2006|cereals and tubers|[266.0,-0.7723227...| 0.1814643683261358|-1.6617350679487117|\n",
      "|Afghanistan|Fayzabad|2006|cereals and tubers|[266.0,-0.7466990...|0.18962923060315764| -1.679073685025287|\n",
      "|Afghanistan|Fayzabad|2006|cereals and tubers|[266.0,-0.2503709...|0.18119626337370234| -2.014920974179063|\n",
      "|Afghanistan|Fayzabad|2006|cereals and tubers|[266.0,0.13839961...| 0.1820187600921596|-2.2779879386979474|\n",
      "|Afghanistan|Fayzabad|2007|cereals and tubers|[266.0,-0.6955504...| 0.5373350942946143|  -1.27648752165328|\n",
      "|Afghanistan|Fayzabad|2007|cereals and tubers|[266.0,-0.5544672...| 0.5348459419051089|-1.3719534495402286|\n",
      "|Afghanistan|Fayzabad|2007|cereals and tubers|[266.0,-0.2654888...|0.19750493270369826|-1.5674946419658227|\n",
      "|Afghanistan|Fayzabad|2007|cereals and tubers|[266.0,-0.0266381...| 0.5045430233528235|-1.7291163155520053|\n",
      "|Afghanistan|Fayzabad|2007|cereals and tubers|[266.0,0.02028944...|0.23786916628762092|-1.7608704925040684|\n",
      "|Afghanistan|Fayzabad|2007|cereals and tubers|[266.0,0.09175346...| 0.5159066054073924|-1.8092276047469795|\n",
      "|Afghanistan|Fayzabad|2007|cereals and tubers|[266.0,0.32939177...|0.20453302054348627|-1.3631069606373103|\n",
      "|Afghanistan|Fayzabad|2007|cereals and tubers|[266.0,1.11010134...|0.24669531787172758|-1.2844629922874446|\n",
      "+-----------+--------+----+------------------+--------------------+-------------------+-------------------+\n",
      "only showing top 20 rows\n",
      "\n"
     ]
    }
   ],
   "source": [
    "test_prediction.select(\"Country\", \"market\", \"Year\", \"CommodityGroup\", \"features\", \"Price_trend_USD\", \"prediction\").show()"
   ]
  },
  {
   "cell_type": "code",
   "execution_count": 35,
   "metadata": {
    "application/vnd.databricks.v1+cell": {
     "inputWidgets": {},
     "nuid": "91ab5a6d-4c6a-40b0-97b0-0dfb60d4a775",
     "showTitle": false,
     "title": ""
    }
   },
   "outputs": [],
   "source": [
    "#Creating a evaluator to calcuate Root Mean squared Error (RMSE) value using regression evaluator\n",
    "evaluator = RegressionEvaluator(\n",
    "    labelCol=\"price_trend_USD\", predictionCol=\"prediction\", metricName=\"rmse\")"
   ]
  },
  {
   "cell_type": "code",
   "execution_count": 36,
   "metadata": {
    "application/vnd.databricks.v1+cell": {
     "inputWidgets": {},
     "nuid": "47bf7485-66aa-4c3d-9358-19cc8a3abd68",
     "showTitle": false,
     "title": ""
    }
   },
   "outputs": [],
   "source": [
    "rmse = evaluator.evaluate(test_prediction)"
   ]
  },
  {
   "cell_type": "code",
   "execution_count": 37,
   "metadata": {
    "application/vnd.databricks.v1+cell": {
     "inputWidgets": {},
     "nuid": "e087180a-eea1-4b59-a769-428677084cba",
     "showTitle": false,
     "title": ""
    }
   },
   "outputs": [
    {
     "name": "stdout",
     "output_type": "stream",
     "text": [
      "Root Mean Squared Error (RMSE) for linear regression on test data = 39.222982019544254\n"
     ]
    }
   ],
   "source": [
    "#Printing RMSE value\n",
    "print(\"Root Mean Squared Error (RMSE) for linear regression on test data = %s\" % rmse)"
   ]
  },
  {
   "cell_type": "code",
   "execution_count": 38,
   "metadata": {
    "application/vnd.databricks.v1+cell": {
     "inputWidgets": {},
     "nuid": "417b1311-bb27-4dd3-b0d0-18ba06caa01b",
     "showTitle": false,
     "title": ""
    }
   },
   "outputs": [
    {
     "name": "stdout",
     "output_type": "stream",
     "text": [
      "Normalized Root Mean Squared Error for Linear Regresssor = 7.157478470719754\n"
     ]
    }
   ],
   "source": [
    "print(\"Normalized Root Mean Squared Error for Linear Regresssor =\", rmse/5.48)"
   ]
  },
  {
   "cell_type": "markdown",
   "metadata": {
    "application/vnd.databricks.v1+cell": {
     "inputWidgets": {},
     "nuid": "102a523e-da01-499a-8f41-30a7a214cdd0",
     "showTitle": false,
     "title": ""
    }
   },
   "source": [
    "#Decision Tree Regression"
   ]
  },
  {
   "cell_type": "code",
   "execution_count": 39,
   "metadata": {
    "application/vnd.databricks.v1+cell": {
     "inputWidgets": {},
     "nuid": "caef22bb-0947-4b9a-8aef-ca1e628dfc1e",
     "showTitle": false,
     "title": ""
    }
   },
   "outputs": [],
   "source": [
    "#importing ml packages for decision tree regressor\n",
    "from pyspark.ml.regression import DecisionTreeRegressor"
   ]
  },
  {
   "cell_type": "code",
   "execution_count": 40,
   "metadata": {
    "application/vnd.databricks.v1+cell": {
     "inputWidgets": {},
     "nuid": "ecea126f-d36b-42f2-86fc-750c54d1856e",
     "showTitle": false,
     "title": ""
    }
   },
   "outputs": [],
   "source": [
    "#Running Decision Tree Regression model\n",
    "dtree_model = DecisionTreeRegressor(featuresCol='features', labelCol='price_trend_USD', predictionCol='prediction')"
   ]
  },
  {
   "cell_type": "code",
   "execution_count": 41,
   "metadata": {
    "application/vnd.databricks.v1+cell": {
     "inputWidgets": {},
     "nuid": "6866fd48-170c-4d8d-a3a6-d78894964bd9",
     "showTitle": false,
     "title": ""
    }
   },
   "outputs": [],
   "source": [
    "#fitting decision tree regression model on training dataset\n",
    "fitdtree = dtree_model.fit(train_set)"
   ]
  },
  {
   "cell_type": "code",
   "execution_count": 42,
   "metadata": {
    "application/vnd.databricks.v1+cell": {
     "inputWidgets": {},
     "nuid": "7aae4790-30f4-4b63-b5a6-a4559b8eb701",
     "showTitle": false,
     "title": ""
    }
   },
   "outputs": [
    {
     "name": "stdout",
     "output_type": "stream",
     "text": [
      "+-----------+------+--------+------------------+----+------------+-------------------+----------+--------------------+---------------+--------------------+-------------------+\n",
      "|    Country|mkt_id|  Market|    CommodityGroup|Year|        PEWI|    price_trend_USD|ALPS_index|CommodityGroup_index|PriceType_index|            features|         prediction|\n",
      "+-----------+------+--------+------------------+----+------------+-------------------+----------+--------------------+---------------+--------------------+-------------------+\n",
      "|Afghanistan|   266|Fayzabad|cereals and tubers|2003|-0.673173606| 0.1003444879640056|       0.0|                 0.0|            0.0|[266.0,-0.6731736...|0.36005383321149653|\n",
      "|Afghanistan|   266|Fayzabad|cereals and tubers|2003|-0.148812696|0.08957008184688157|       0.0|                 0.0|            0.0|[266.0,-0.1488126...|0.36005383321149653|\n",
      "|Afghanistan|   266|Fayzabad|cereals and tubers|2003| 0.225916818|0.08850471506837475|       0.0|                 0.0|            0.0|[266.0,0.22591681...|0.36005383321149653|\n",
      "|Afghanistan|   266|Fayzabad|cereals and tubers|2004| 1.401523352|0.13054049637788745|       2.0|                 0.0|            0.0|[266.0,1.40152335...|0.36005383321149653|\n",
      "|Afghanistan|   266|Fayzabad|cereals and tubers|2004|  2.02803874| 0.1310166872189494|       3.0|                 0.0|            0.0|[266.0,2.02803874...|0.36005383321149653|\n",
      "|Afghanistan|   266|Fayzabad|cereals and tubers|2005|-1.600996256|0.16300923600780715|       0.0|                 0.0|            0.0|[266.0,-1.6009962...|0.36005383321149653|\n",
      "|Afghanistan|   266|Fayzabad|cereals and tubers|2005| 0.959987581|0.13783619384780085|       1.0|                 0.0|            0.0|[266.0,0.95998758...|0.36005383321149653|\n",
      "|Afghanistan|   266|Fayzabad|cereals and tubers|2006|-1.331980586| 0.1818288064545354|       0.0|                 0.0|            0.0|[266.0,-1.3319805...|0.36005383321149653|\n",
      "|Afghanistan|   266|Fayzabad|cereals and tubers|2006|-0.772322714| 0.1814643683261358|       0.0|                 0.0|            0.0|[266.0,-0.7723227...|0.36005383321149653|\n",
      "|Afghanistan|   266|Fayzabad|cereals and tubers|2006|-0.746699035|0.18962923060315764|       0.0|                 0.0|            0.0|[266.0,-0.7466990...|0.36005383321149653|\n",
      "|Afghanistan|   266|Fayzabad|cereals and tubers|2006| -0.25037092|0.18119626337370234|       0.0|                 0.0|            0.0|[266.0,-0.2503709...|0.36005383321149653|\n",
      "|Afghanistan|   266|Fayzabad|cereals and tubers|2006| 0.138399616| 0.1820187600921596|       0.0|                 0.0|            0.0|[266.0,0.13839961...|0.36005383321149653|\n",
      "|Afghanistan|   266|Fayzabad|cereals and tubers|2007|-0.695550442| 0.5373350942946143|       0.0|                 0.0|            0.0|[266.0,-0.6955504...|0.36005383321149653|\n",
      "|Afghanistan|   266|Fayzabad|cereals and tubers|2007|-0.554467201| 0.5348459419051089|       0.0|                 0.0|            0.0|[266.0,-0.5544672...|0.36005383321149653|\n",
      "|Afghanistan|   266|Fayzabad|cereals and tubers|2007|-0.265488863|0.19750493270369826|       0.0|                 0.0|            0.0|[266.0,-0.2654888...|0.36005383321149653|\n",
      "|Afghanistan|   266|Fayzabad|cereals and tubers|2007|-0.026638102| 0.5045430233528235|       0.0|                 0.0|            0.0|[266.0,-0.0266381...|0.36005383321149653|\n",
      "|Afghanistan|   266|Fayzabad|cereals and tubers|2007| 0.020289449|0.23786916628762092|       0.0|                 0.0|            0.0|[266.0,0.02028944...|0.36005383321149653|\n",
      "|Afghanistan|   266|Fayzabad|cereals and tubers|2007|  0.09175346| 0.5159066054073924|       0.0|                 0.0|            0.0|[266.0,0.09175346...|0.36005383321149653|\n",
      "|Afghanistan|   266|Fayzabad|cereals and tubers|2007| 0.329391778|0.20453302054348627|       1.0|                 0.0|            0.0|[266.0,0.32939177...|0.36005383321149653|\n",
      "|Afghanistan|   266|Fayzabad|cereals and tubers|2007| 1.110101342|0.24669531787172758|       2.0|                 0.0|            0.0|[266.0,1.11010134...|0.36005383321149653|\n",
      "+-----------+------+--------+------------------+----+------------+-------------------+----------+--------------------+---------------+--------------------+-------------------+\n",
      "only showing top 20 rows\n",
      "\n"
     ]
    }
   ],
   "source": [
    "#transforming the fit training dataset on the testing dataset\n",
    "test_prediction = fitdtree.transform(test_set)\n",
    "test_prediction.show()"
   ]
  },
  {
   "cell_type": "code",
   "execution_count": 43,
   "metadata": {
    "application/vnd.databricks.v1+cell": {
     "inputWidgets": {},
     "nuid": "24f72728-24e4-4c36-b4df-766c7728f99a",
     "showTitle": false,
     "title": ""
    }
   },
   "outputs": [
    {
     "name": "stdout",
     "output_type": "stream",
     "text": [
      "+-----------+--------+----+------------------+--------------------+-------------------+-------------------+\n",
      "|    Country|  market|Year|    CommodityGroup|            features|    Price_trend_USD|         prediction|\n",
      "+-----------+--------+----+------------------+--------------------+-------------------+-------------------+\n",
      "|Afghanistan|Fayzabad|2003|cereals and tubers|[266.0,-0.6731736...| 0.1003444879640056|0.36005383321149653|\n",
      "|Afghanistan|Fayzabad|2003|cereals and tubers|[266.0,-0.1488126...|0.08957008184688157|0.36005383321149653|\n",
      "|Afghanistan|Fayzabad|2003|cereals and tubers|[266.0,0.22591681...|0.08850471506837475|0.36005383321149653|\n",
      "|Afghanistan|Fayzabad|2004|cereals and tubers|[266.0,1.40152335...|0.13054049637788745|0.36005383321149653|\n",
      "|Afghanistan|Fayzabad|2004|cereals and tubers|[266.0,2.02803874...| 0.1310166872189494|0.36005383321149653|\n",
      "|Afghanistan|Fayzabad|2005|cereals and tubers|[266.0,-1.6009962...|0.16300923600780715|0.36005383321149653|\n",
      "|Afghanistan|Fayzabad|2005|cereals and tubers|[266.0,0.95998758...|0.13783619384780085|0.36005383321149653|\n",
      "|Afghanistan|Fayzabad|2006|cereals and tubers|[266.0,-1.3319805...| 0.1818288064545354|0.36005383321149653|\n",
      "|Afghanistan|Fayzabad|2006|cereals and tubers|[266.0,-0.7723227...| 0.1814643683261358|0.36005383321149653|\n",
      "|Afghanistan|Fayzabad|2006|cereals and tubers|[266.0,-0.7466990...|0.18962923060315764|0.36005383321149653|\n",
      "|Afghanistan|Fayzabad|2006|cereals and tubers|[266.0,-0.2503709...|0.18119626337370234|0.36005383321149653|\n",
      "|Afghanistan|Fayzabad|2006|cereals and tubers|[266.0,0.13839961...| 0.1820187600921596|0.36005383321149653|\n",
      "|Afghanistan|Fayzabad|2007|cereals and tubers|[266.0,-0.6955504...| 0.5373350942946143|0.36005383321149653|\n",
      "|Afghanistan|Fayzabad|2007|cereals and tubers|[266.0,-0.5544672...| 0.5348459419051089|0.36005383321149653|\n",
      "|Afghanistan|Fayzabad|2007|cereals and tubers|[266.0,-0.2654888...|0.19750493270369826|0.36005383321149653|\n",
      "|Afghanistan|Fayzabad|2007|cereals and tubers|[266.0,-0.0266381...| 0.5045430233528235|0.36005383321149653|\n",
      "|Afghanistan|Fayzabad|2007|cereals and tubers|[266.0,0.02028944...|0.23786916628762092|0.36005383321149653|\n",
      "|Afghanistan|Fayzabad|2007|cereals and tubers|[266.0,0.09175346...| 0.5159066054073924|0.36005383321149653|\n",
      "|Afghanistan|Fayzabad|2007|cereals and tubers|[266.0,0.32939177...|0.20453302054348627|0.36005383321149653|\n",
      "|Afghanistan|Fayzabad|2007|cereals and tubers|[266.0,1.11010134...|0.24669531787172758|0.36005383321149653|\n",
      "+-----------+--------+----+------------------+--------------------+-------------------+-------------------+\n",
      "only showing top 20 rows\n",
      "\n"
     ]
    }
   ],
   "source": [
    "#Checking the prediction value on the test dataset\n",
    "test_prediction.select(\"Country\", \"market\", \"Year\", \"CommodityGroup\", \"features\", \"Price_trend_USD\", \"prediction\").show()"
   ]
  },
  {
   "cell_type": "code",
   "execution_count": 44,
   "metadata": {
    "application/vnd.databricks.v1+cell": {
     "inputWidgets": {},
     "nuid": "09773801-20d4-4cb0-924d-cb3035d1f5b0",
     "showTitle": false,
     "title": ""
    }
   },
   "outputs": [],
   "source": [
    "#Creating a evaluator to calcuate Root Mean squared Error (RMSE) value using regression evaluator\n",
    "evaluator = RegressionEvaluator(\n",
    "    labelCol=\"price_trend_USD\", predictionCol=\"prediction\", metricName=\"rmse\")"
   ]
  },
  {
   "cell_type": "code",
   "execution_count": 45,
   "metadata": {
    "application/vnd.databricks.v1+cell": {
     "inputWidgets": {},
     "nuid": "29dfbdc9-ffff-4549-91be-23723e806237",
     "showTitle": false,
     "title": ""
    }
   },
   "outputs": [],
   "source": [
    "#Calculating RMSE value\n",
    "rmse = float(evaluator.evaluate(test_prediction))"
   ]
  },
  {
   "cell_type": "code",
   "execution_count": 46,
   "metadata": {
    "application/vnd.databricks.v1+cell": {
     "inputWidgets": {},
     "nuid": "5e83b10a-afc4-45a4-a935-34c4095875d6",
     "showTitle": false,
     "title": ""
    }
   },
   "outputs": [
    {
     "name": "stdout",
     "output_type": "stream",
     "text": [
      "Root Mean Squared Error (RMSE) for Decision Tree Regressor on test data = 24.8915\n"
     ]
    }
   ],
   "source": [
    "#Printing RMSE value\n",
    "print(\"Root Mean Squared Error (RMSE) for Decision Tree Regressor on test data = %g\" % rmse)"
   ]
  },
  {
   "cell_type": "code",
   "execution_count": 47,
   "metadata": {
    "application/vnd.databricks.v1+cell": {
     "inputWidgets": {},
     "nuid": "750a0994-74b0-4694-8db2-1c136b007e92",
     "showTitle": false,
     "title": ""
    }
   },
   "outputs": [
    {
     "name": "stdout",
     "output_type": "stream",
     "text": [
      "Normalized Root Mean Squared Error for Decision Tree Regresssor = 4.542239419524407\n"
     ]
    }
   ],
   "source": [
    "print(\"Normalized Root Mean Squared Error for Decision Tree Regresssor =\", rmse/5.48)"
   ]
  },
  {
   "cell_type": "markdown",
   "metadata": {
    "application/vnd.databricks.v1+cell": {
     "inputWidgets": {},
     "nuid": "b6d9043c-8563-46e1-adec-a0e4acb65ebd",
     "showTitle": false,
     "title": ""
    }
   },
   "source": [
    "## Random Forest Regression"
   ]
  },
  {
   "cell_type": "code",
   "execution_count": 48,
   "metadata": {
    "application/vnd.databricks.v1+cell": {
     "inputWidgets": {},
     "nuid": "007c00ef-b709-4a23-b256-f8753e9b9008",
     "showTitle": false,
     "title": ""
    }
   },
   "outputs": [],
   "source": [
    "#importing ml pacakges for Random Forest Regression\n",
    "from pyspark.ml.regression import RandomForestRegressor"
   ]
  },
  {
   "cell_type": "code",
   "execution_count": 49,
   "metadata": {
    "application/vnd.databricks.v1+cell": {
     "inputWidgets": {},
     "nuid": "297f3710-78fa-4ff1-9c2e-fda219a8bc5e",
     "showTitle": false,
     "title": ""
    }
   },
   "outputs": [],
   "source": [
    "#Running Random Forest Regression model\n",
    "rforest_model = RandomForestRegressor(labelCol=\"price_trend_USD\", featuresCol=\"features\", predictionCol='prediction')"
   ]
  },
  {
   "cell_type": "code",
   "execution_count": 50,
   "metadata": {
    "application/vnd.databricks.v1+cell": {
     "inputWidgets": {},
     "nuid": "48079b5b-3804-4ae9-a17c-cea3fd2c37f3",
     "showTitle": false,
     "title": ""
    }
   },
   "outputs": [],
   "source": [
    "#fitting Random Forest Regression model on training dataset\n",
    "fitrforest = rforest_model.fit(train_set)"
   ]
  },
  {
   "cell_type": "code",
   "execution_count": 51,
   "metadata": {
    "application/vnd.databricks.v1+cell": {
     "inputWidgets": {},
     "nuid": "b4dff570-5723-422a-a830-c0c785b599e3",
     "showTitle": false,
     "title": ""
    }
   },
   "outputs": [
    {
     "name": "stdout",
     "output_type": "stream",
     "text": [
      "+-----------+------+--------+------------------+----+------------+-------------------+----------+--------------------+---------------+--------------------+------------------+\n",
      "|    Country|mkt_id|  Market|    CommodityGroup|Year|        PEWI|    price_trend_USD|ALPS_index|CommodityGroup_index|PriceType_index|            features|        prediction|\n",
      "+-----------+------+--------+------------------+----+------------+-------------------+----------+--------------------+---------------+--------------------+------------------+\n",
      "|Afghanistan|   266|Fayzabad|cereals and tubers|2003|-0.673173606| 0.1003444879640056|       0.0|                 0.0|            0.0|[266.0,-0.6731736...| 1.440945509830318|\n",
      "|Afghanistan|   266|Fayzabad|cereals and tubers|2003|-0.148812696|0.08957008184688157|       0.0|                 0.0|            0.0|[266.0,-0.1488126...|1.4590733308044688|\n",
      "|Afghanistan|   266|Fayzabad|cereals and tubers|2003| 0.225916818|0.08850471506837475|       0.0|                 0.0|            0.0|[266.0,0.22591681...|1.4590733308044688|\n",
      "|Afghanistan|   266|Fayzabad|cereals and tubers|2004| 1.401523352|0.13054049637788745|       2.0|                 0.0|            0.0|[266.0,1.40152335...|1.4564282392127113|\n",
      "|Afghanistan|   266|Fayzabad|cereals and tubers|2004|  2.02803874| 0.1310166872189494|       3.0|                 0.0|            0.0|[266.0,2.02803874...|1.4590733308044688|\n",
      "|Afghanistan|   266|Fayzabad|cereals and tubers|2005|-1.600996256|0.16300923600780715|       0.0|                 0.0|            0.0|[266.0,-1.6009962...|1.0517017426195867|\n",
      "|Afghanistan|   266|Fayzabad|cereals and tubers|2005| 0.959987581|0.13783619384780085|       1.0|                 0.0|            0.0|[266.0,0.95998758...|1.4656398424916681|\n",
      "|Afghanistan|   266|Fayzabad|cereals and tubers|2006|-1.331980586| 0.1818288064545354|       0.0|                 0.0|            0.0|[266.0,-1.3319805...|1.4798972293423218|\n",
      "|Afghanistan|   266|Fayzabad|cereals and tubers|2006|-0.772322714| 0.1814643683261358|       0.0|                 0.0|            0.0|[266.0,-0.7723227...| 1.470931514754941|\n",
      "|Afghanistan|   266|Fayzabad|cereals and tubers|2006|-0.746699035|0.18962923060315764|       0.0|                 0.0|            0.0|[266.0,-0.7466990...| 1.470931514754941|\n",
      "|Afghanistan|   266|Fayzabad|cereals and tubers|2006| -0.25037092|0.18119626337370234|       0.0|                 0.0|            0.0|[266.0,-0.2503709...|1.4890593357290915|\n",
      "|Afghanistan|   266|Fayzabad|cereals and tubers|2006| 0.138399616| 0.1820187600921596|       0.0|                 0.0|            0.0|[266.0,0.13839961...|1.4890593357290915|\n",
      "|Afghanistan|   266|Fayzabad|cereals and tubers|2007|-0.695550442| 0.5373350942946143|       0.0|                 0.0|            0.0|[266.0,-0.6955504...|1.5989046491265204|\n",
      "|Afghanistan|   266|Fayzabad|cereals and tubers|2007|-0.554467201| 0.5348459419051089|       0.0|                 0.0|            0.0|[266.0,-0.5544672...|1.6241191003711304|\n",
      "|Afghanistan|   266|Fayzabad|cereals and tubers|2007|-0.265488863|0.19750493270369826|       0.0|                 0.0|            0.0|[266.0,-0.2654888...|1.6170324701006709|\n",
      "|Afghanistan|   266|Fayzabad|cereals and tubers|2007|-0.026638102| 0.5045430233528235|       0.0|                 0.0|            0.0|[266.0,-0.0266381...|1.6170324701006709|\n",
      "|Afghanistan|   266|Fayzabad|cereals and tubers|2007| 0.020289449|0.23786916628762092|       0.0|                 0.0|            0.0|[266.0,0.02028944...|1.6170324701006709|\n",
      "|Afghanistan|   266|Fayzabad|cereals and tubers|2007|  0.09175346| 0.5159066054073924|       0.0|                 0.0|            0.0|[266.0,0.09175346...|1.6170324701006709|\n",
      "|Afghanistan|   266|Fayzabad|cereals and tubers|2007| 0.329391778|0.20453302054348627|       1.0|                 0.0|            0.0|[266.0,0.32939177...|1.9478577513480815|\n",
      "|Afghanistan|   266|Fayzabad|cereals and tubers|2007| 1.110101342|0.24669531787172758|       2.0|                 0.0|            0.0|[266.0,1.11010134...|1.6119235857610366|\n",
      "+-----------+------+--------+------------------+----+------------+-------------------+----------+--------------------+---------------+--------------------+------------------+\n",
      "only showing top 20 rows\n",
      "\n"
     ]
    }
   ],
   "source": [
    "#transforming the fit training dataset on the testing dataset\n",
    "test_prediction = fitrforest.transform(test_set)\n",
    "test_prediction.show()"
   ]
  },
  {
   "cell_type": "code",
   "execution_count": 52,
   "metadata": {
    "application/vnd.databricks.v1+cell": {
     "inputWidgets": {},
     "nuid": "24c0033c-9f84-4859-b67c-b8e9b4745cfd",
     "showTitle": false,
     "title": ""
    }
   },
   "outputs": [
    {
     "name": "stdout",
     "output_type": "stream",
     "text": [
      "+-----------+--------+----+------------------+--------------------+-------------------+------------------+\n",
      "|    Country|  market|Year|    CommodityGroup|            features|    Price_trend_USD|        prediction|\n",
      "+-----------+--------+----+------------------+--------------------+-------------------+------------------+\n",
      "|Afghanistan|Fayzabad|2003|cereals and tubers|[266.0,-0.6731736...| 0.1003444879640056| 1.440945509830318|\n",
      "|Afghanistan|Fayzabad|2003|cereals and tubers|[266.0,-0.1488126...|0.08957008184688157|1.4590733308044688|\n",
      "|Afghanistan|Fayzabad|2003|cereals and tubers|[266.0,0.22591681...|0.08850471506837475|1.4590733308044688|\n",
      "|Afghanistan|Fayzabad|2004|cereals and tubers|[266.0,1.40152335...|0.13054049637788745|1.4564282392127113|\n",
      "|Afghanistan|Fayzabad|2004|cereals and tubers|[266.0,2.02803874...| 0.1310166872189494|1.4590733308044688|\n",
      "|Afghanistan|Fayzabad|2005|cereals and tubers|[266.0,-1.6009962...|0.16300923600780715|1.0517017426195867|\n",
      "|Afghanistan|Fayzabad|2005|cereals and tubers|[266.0,0.95998758...|0.13783619384780085|1.4656398424916681|\n",
      "|Afghanistan|Fayzabad|2006|cereals and tubers|[266.0,-1.3319805...| 0.1818288064545354|1.4798972293423218|\n",
      "|Afghanistan|Fayzabad|2006|cereals and tubers|[266.0,-0.7723227...| 0.1814643683261358| 1.470931514754941|\n",
      "|Afghanistan|Fayzabad|2006|cereals and tubers|[266.0,-0.7466990...|0.18962923060315764| 1.470931514754941|\n",
      "|Afghanistan|Fayzabad|2006|cereals and tubers|[266.0,-0.2503709...|0.18119626337370234|1.4890593357290915|\n",
      "|Afghanistan|Fayzabad|2006|cereals and tubers|[266.0,0.13839961...| 0.1820187600921596|1.4890593357290915|\n",
      "|Afghanistan|Fayzabad|2007|cereals and tubers|[266.0,-0.6955504...| 0.5373350942946143|1.5989046491265204|\n",
      "|Afghanistan|Fayzabad|2007|cereals and tubers|[266.0,-0.5544672...| 0.5348459419051089|1.6241191003711304|\n",
      "|Afghanistan|Fayzabad|2007|cereals and tubers|[266.0,-0.2654888...|0.19750493270369826|1.6170324701006709|\n",
      "|Afghanistan|Fayzabad|2007|cereals and tubers|[266.0,-0.0266381...| 0.5045430233528235|1.6170324701006709|\n",
      "|Afghanistan|Fayzabad|2007|cereals and tubers|[266.0,0.02028944...|0.23786916628762092|1.6170324701006709|\n",
      "|Afghanistan|Fayzabad|2007|cereals and tubers|[266.0,0.09175346...| 0.5159066054073924|1.6170324701006709|\n",
      "|Afghanistan|Fayzabad|2007|cereals and tubers|[266.0,0.32939177...|0.20453302054348627|1.9478577513480815|\n",
      "|Afghanistan|Fayzabad|2007|cereals and tubers|[266.0,1.11010134...|0.24669531787172758|1.6119235857610366|\n",
      "+-----------+--------+----+------------------+--------------------+-------------------+------------------+\n",
      "only showing top 20 rows\n",
      "\n"
     ]
    }
   ],
   "source": [
    "#Checking the prediction value on the test dataset\n",
    "test_prediction.select(\"Country\", \"market\", \"Year\", \"CommodityGroup\", \"features\", \"Price_trend_USD\", \"prediction\").show()"
   ]
  },
  {
   "cell_type": "code",
   "execution_count": 53,
   "metadata": {
    "application/vnd.databricks.v1+cell": {
     "inputWidgets": {},
     "nuid": "6d34ccf3-c68d-4a1d-8bb1-4ffb72eab5bc",
     "showTitle": false,
     "title": ""
    }
   },
   "outputs": [],
   "source": [
    "#Creating a evaluator to calcuate Root Mean squared Error (RMSE) value using regression evaluator\n",
    "evaluator = RegressionEvaluator(\n",
    "    labelCol=\"price_trend_USD\", predictionCol=\"prediction\", metricName=\"rmse\")"
   ]
  },
  {
   "cell_type": "code",
   "execution_count": 54,
   "metadata": {
    "application/vnd.databricks.v1+cell": {
     "inputWidgets": {},
     "nuid": "9e480281-3bd0-4fbe-92a0-d3137be8696f",
     "showTitle": false,
     "title": ""
    }
   },
   "outputs": [],
   "source": [
    "#Calculating RMSE value\n",
    "rmse = float(evaluator.evaluate(test_prediction))"
   ]
  },
  {
   "cell_type": "code",
   "execution_count": 55,
   "metadata": {
    "application/vnd.databricks.v1+cell": {
     "inputWidgets": {},
     "nuid": "3cfdcbd7-82af-4a82-b907-57f148d42039",
     "showTitle": false,
     "title": ""
    }
   },
   "outputs": [
    {
     "name": "stdout",
     "output_type": "stream",
     "text": [
      "Root Mean Squared Error (RMSE) for Random Forest Regressor on test data = 29.797\n"
     ]
    }
   ],
   "source": [
    "#Printing RMSE value\n",
    "print(\"Root Mean Squared Error (RMSE) for Random Forest Regressor on test data = %g\" % rmse)"
   ]
  },
  {
   "cell_type": "code",
   "execution_count": 56,
   "metadata": {
    "application/vnd.databricks.v1+cell": {
     "inputWidgets": {},
     "nuid": "ad725379-e030-4922-bf54-7f1d6df24ce5",
     "showTitle": false,
     "title": ""
    }
   },
   "outputs": [
    {
     "name": "stdout",
     "output_type": "stream",
     "text": [
      "Normalized Root Mean Squared Error for Random Forest Regresssor = 5.437415999073002\n"
     ]
    }
   ],
   "source": [
    "print(\"Normalized Root Mean Squared Error for Random Forest Regresssor =\", rmse/5.48)"
   ]
  },
  {
   "cell_type": "code",
   "execution_count": null,
   "metadata": {
    "application/vnd.databricks.v1+cell": {
     "inputWidgets": {},
     "nuid": "626b428d-be9a-4445-9770-021f46f1f550",
     "showTitle": false,
     "title": ""
    }
   },
   "outputs": [],
   "source": []
  }
 ],
 "metadata": {
  "application/vnd.databricks.v1+notebook": {
   "dashboards": [],
   "language": "python",
   "notebookName": "Final Project",
   "notebookOrigID": 29283444671250,
   "widgets": {}
  },
  "kernelspec": {
   "display_name": "Python 3",
   "language": "python",
   "name": "python3"
  },
  "language_info": {
   "codemirror_mode": {
    "name": "ipython",
    "version": 3
   },
   "file_extension": ".py",
   "mimetype": "text/x-python",
   "name": "python",
   "nbconvert_exporter": "python",
   "pygments_lexer": "ipython3",
   "version": "3.6.9"
  }
 },
 "nbformat": 4,
 "nbformat_minor": 1
}
